{
 "cells": [
  {
   "cell_type": "code",
   "execution_count": 2,
   "id": "3f3cc364-d2e9-4709-a3f7-7b5e5370e492",
   "metadata": {},
   "outputs": [],
   "source": [
    "import re\n",
    "import csv"
   ]
  },
  {
   "cell_type": "code",
   "execution_count": 3,
   "id": "7aee7c60-33f3-476d-a84a-cd41de92f033",
   "metadata": {},
   "outputs": [],
   "source": [
    "with open('../Tarea-2/pubmed-dengue-set.nbib') as f:\n",
    "    my_text = f.read()"
   ]
  },
  {
   "cell_type": "code",
   "execution_count": 4,
   "id": "bb546d8c-6dd6-4e24-85b7-09585bf7be76",
   "metadata": {},
   "outputs": [
    {
     "data": {
      "text/plain": [
       "526538"
      ]
     },
     "execution_count": 4,
     "metadata": {},
     "output_type": "execute_result"
    }
   ],
   "source": [
    "len(my_text)"
   ]
  },
  {
   "cell_type": "code",
   "execution_count": 5,
   "id": "06013610-a0a3-4f55-a047-69b7100de33d",
   "metadata": {},
   "outputs": [],
   "source": [
    "my_text = re.sub(r'\\n\\s{6}', ' ', my_text)"
   ]
  },
  {
   "cell_type": "code",
   "execution_count": 6,
   "id": "d4efd9b3-7326-492a-a1c0-bbfaf5ec182e",
   "metadata": {},
   "outputs": [],
   "source": [
    "country = re.findall(r'[,]+[\\s]+[\\w]+[.=$]|[,]+[\\s]+[\\w]+[\\s]+[\\w]+[.=$]', my_text)"
   ]
  },
  {
   "cell_type": "code",
   "execution_count": 7,
   "id": "8d73656d-99ae-4b8d-a0ae-416a1f5d2880",
   "metadata": {},
   "outputs": [
    {
     "data": {
      "text/plain": [
       "592"
      ]
     },
     "execution_count": 7,
     "metadata": {},
     "output_type": "execute_result"
    }
   ],
   "source": [
    "len(country)"
   ]
  },
  {
   "cell_type": "code",
   "execution_count": 8,
   "id": "2ab11794",
   "metadata": {},
   "outputs": [
    {
     "data": {
      "text/plain": [
       "[', Cuba.',\n",
       " ', USA.',\n",
       " ', India.',\n",
       " ', India.',\n",
       " ', and control.',\n",
       " ', USA.',\n",
       " ', The Netherlands.',\n",
       " ', The Netherlands.',\n",
       " ', Viet Nam.',\n",
       " ', USA.']"
      ]
     },
     "execution_count": 8,
     "metadata": {},
     "output_type": "execute_result"
    }
   ],
   "source": [
    "country[:10]"
   ]
  },
  {
   "cell_type": "code",
   "execution_count": 9,
   "id": "61eba6e7",
   "metadata": {},
   "outputs": [],
   "source": [
    "unique_country = list(set(country))"
   ]
  },
  {
   "cell_type": "code",
   "execution_count": 10,
   "id": "d06bd8a0",
   "metadata": {},
   "outputs": [
    {
     "data": {
      "text/plain": [
       "154"
      ]
     },
     "execution_count": 10,
     "metadata": {},
     "output_type": "execute_result"
    }
   ],
   "source": [
    "len(unique_country)"
   ]
  },
  {
   "cell_type": "code",
   "execution_count": 11,
   "id": "4b9ce894",
   "metadata": {},
   "outputs": [
    {
     "data": {
      "text/plain": [
       "[', Peru.',\n",
       " ', 94.',\n",
       " ', Switzerland.',\n",
       " ', Pakistan.',\n",
       " ', Turkey.',\n",
       " ', Rotherham.',\n",
       " ', France.',\n",
       " ', respectively.',\n",
       " ', Sri Lanka.',\n",
       " ', NY 10036.',\n",
       " ', Australia.',\n",
       " ', Philippines.',\n",
       " ', Chile.',\n",
       " ', Singapore 308433.',\n",
       " ', Viet Nam.',\n",
       " ', Bhutan.',\n",
       " ', CP.',\n",
       " ', British Columbia.',\n",
       " ',  aggressive syndrome.',\n",
       " ', United  Kingdom.',\n",
       " ', Israel.',\n",
       " ', San Juan.',\n",
       " ', Vietnam.',\n",
       " ', Mexico.',\n",
       " ',  Thailand.',\n",
       " ', Canada.',\n",
       " ', Inc.',\n",
       " ', ROC.',\n",
       " ', USA.',\n",
       " ', Colombia.',\n",
       " ',  Italy.',\n",
       " ', P.',\n",
       " ', Singapore 308442.',\n",
       " ',  Brazil.',\n",
       " ', United States.',\n",
       " ', The Netherlands.',\n",
       " ', etc.',\n",
       " ', and prevention.',\n",
       " ',  Switzerland.',\n",
       " ', Singapore 117549.',\n",
       " ', St.',\n",
       " ', and control.',\n",
       " ', 85.',\n",
       " ', and leukopenia.',\n",
       " ', were uncommon.',\n",
       " ', D.',\n",
       " ', Thailand.',\n",
       " ', Dr.',\n",
       " ', SLACK Incorporated.',\n",
       " ',  Colombia.',\n",
       " ', Singapore 138675.',\n",
       " ', N.',\n",
       " ',  Viet Nam.',\n",
       " ', without mortality.',\n",
       " ', Senegal.',\n",
       " ', Bethesda.',\n",
       " ', 55.',\n",
       " ', 2015.',\n",
       " ',  USA.',\n",
       " ', and hyponatremia.',\n",
       " ', were included.',\n",
       " ',  France.',\n",
       " ', Netherlands.',\n",
       " ', simultaneously.',\n",
       " ',  ROC.',\n",
       " ', Qatar.',\n",
       " ', Maryland.',\n",
       " ', are  scarce.',\n",
       " ', PR.',\n",
       " ', Malaysia.',\n",
       " ',  Indonesia.',\n",
       " ', Belize.',\n",
       " ', Honduras.',\n",
       " ', Ave.',\n",
       " ', Nagasaki University.',\n",
       " ', Ludhiana.',\n",
       " ', Congo.',\n",
       " ', Bangladesh.',\n",
       " ', Nice.',\n",
       " ', southern Vietnam.',\n",
       " ', Kerala.',\n",
       " ', Aedes albopictus.',\n",
       " ', is terrifying.',\n",
       " ', Punjab.',\n",
       " ', Providence.',\n",
       " ', Singapore 636921.',\n",
       " ', Kottiyam.',\n",
       " ',  Maryland.',\n",
       " ', U.',\n",
       " ', Italy.',\n",
       " ', Treatment.',\n",
       " ',  Bangladesh.',\n",
       " ', Belgium.',\n",
       " ',  Sri Lanka.',\n",
       " ', were calculated.',\n",
       " ', PerÃº.',\n",
       " ', Brasil.',\n",
       " ', Palestine.',\n",
       " ', New Delhi.',\n",
       " ',  Brasil.',\n",
       " ',  The Netherlands.',\n",
       " ',  Pakistan.',\n",
       " ', and thrombocytopenia.',\n",
       " ', New Caledonia.',\n",
       " ', Sweden.',\n",
       " ', Nepal.',\n",
       " ', Japan.',\n",
       " ',  Massachusetts.',\n",
       " ',  Malaysia.',\n",
       " ',  with 13.',\n",
       " ', and 66.',\n",
       " ', Cuba.',\n",
       " ', Brazil.',\n",
       " ', Aedes spp.',\n",
       " ', India.',\n",
       " ', Panama.',\n",
       " ', UK  david.',\n",
       " ', Oslo.',\n",
       " ', Ltd.',\n",
       " ', Portugal.',\n",
       " ', US$',\n",
       " ', ix.',\n",
       " ',  etc.',\n",
       " ',  respectively.',\n",
       " ', A.',\n",
       " ', Indonesia.',\n",
       " ', and US$',\n",
       " ', Sri  Lanka.',\n",
       " ', California.',\n",
       " ', Nicaragua.',\n",
       " ', remains symptomatic.',\n",
       " ',  Australia.',\n",
       " ', including DENV.',\n",
       " ', Guadeloupe.',\n",
       " ',  Singapore.',\n",
       " ', Paris.',\n",
       " ', CO 80522.',\n",
       " ', 20.',\n",
       " ', and cough.',\n",
       " ', Viet  Nam.',\n",
       " ',  Singapore 117597.',\n",
       " ', UK.',\n",
       " ', Venezuela.',\n",
       " ',  Georgia.',\n",
       " ', Germany.',\n",
       " ', Singapore.',\n",
       " ', prevention.',\n",
       " ', United Kingdom.',\n",
       " ', 15.',\n",
       " ', with 2.',\n",
       " ', S.',\n",
       " ', genus Flavivirus.',\n",
       " ', Chennai.',\n",
       " ', Costa  Rica.']"
      ]
     },
     "execution_count": 11,
     "metadata": {},
     "output_type": "execute_result"
    }
   ],
   "source": [
    "unique_country"
   ]
  },
  {
   "cell_type": "code",
   "execution_count": 8,
   "id": "9934925e",
   "metadata": {},
   "outputs": [
    {
     "data": {
      "text/plain": [
       "[', Cuba.',\n",
       " ', USA.',\n",
       " ', India.',\n",
       " ', India.',\n",
       " ', and control.',\n",
       " ', USA.',\n",
       " ', The Netherlands.',\n",
       " ', The Netherlands.',\n",
       " ', Viet Nam.',\n",
       " ', USA.']"
      ]
     },
     "execution_count": 8,
     "metadata": {},
     "output_type": "execute_result"
    }
   ],
   "source": [
    "country[:10]"
   ]
  },
  {
   "cell_type": "code",
   "execution_count": 8,
   "id": "0b2d586a-b710-4e9b-b468-8a9f3444c2b0",
   "metadata": {},
   "outputs": [
    {
     "data": {
      "text/plain": [
       "[', Cuba.',\n",
       " ', USA.',\n",
       " ', India.',\n",
       " ', India.',\n",
       " ', and control.',\n",
       " ', USA.',\n",
       " ', The Netherlands.',\n",
       " ', The Netherlands.',\n",
       " ', Viet Nam.',\n",
       " ', USA.']"
      ]
     },
     "execution_count": 8,
     "metadata": {},
     "output_type": "execute_result"
    }
   ],
   "source": [
    "country[:10]"
   ]
  },
  {
   "cell_type": "code",
   "execution_count": 9,
   "id": "690e7a04-1785-4a3f-ba55-86e89bc65bb2",
   "metadata": {},
   "outputs": [
    {
     "name": "stdout",
     "output_type": "stream",
     "text": [
      ", Cuba., USA., India., India., and control., USA., The Netherlands., The Netherlands., Viet Nam., USA., Philippines.,  with 13., Brazil., Brazil., Brazil., Brazil., Brazil., Brazil., Brazil., Brazil., Brazil., Brazil., Brazil., Brazil., USA., Brazil., Brazil., Qatar., Qatar., Qatar.,  France., France.,  France., UK., Ave., N., Mexico., Mexico., Ave., N., Mexico., Mexico., CP., Mexico., Mexico.,  Malaysia., Ave., N., Mexico., UK., UK., USA., UK., UK., UK., UK., UK., UK., UK., Australia., USA., USA., USA., USA.,  USA., India., USA., Singapore., Singapore., Singapore.,  Singapore., Singapore., USA., UK., UK., Vietnam., Maryland., Maryland., Maryland., Brazil., and leukopenia., Ludhiana., Chennai., Ltd., Sri Lanka., UK., Sri  Lanka., Singapore., California., are  scarce., USA.,  USA., USA., genus Flavivirus., Australia., Vietnam., Malaysia., Malaysia., Malaysia., Malaysia., Malaysia.,  Malaysia., Malaysia., Malaysia., USA., USA., USA., British Columbia., UK., UK.,  Georgia., Switzerland., Aedes albopictus., Portugal.,  Pakistan.,  Pakistan.,  Pakistan.,  Pakistan.,  Pakistan., Pakistan., Treatment., Japan., USA., Nepal., UK., India., Turkey., Belize., Costa  Rica., Sweden., India., USA., PR., PR., N., U., P., simultaneously., India., with 2., UK., France., ROC.,  ROC.,  ROC., ROC., and thrombocytopenia., etc., India., Brasil., and thrombocytopenia.,  Thailand., Switzerland., Switzerland., Congo., UK., Switzerland., Colombia., Honduras., Honduras., Panama.,  USA., USA.,  Thailand., Thailand., P., United States., Indonesia., Philippines., Philippines., Indonesia., UK., Philippines., USA., Indonesia., 85., and 66.,  respectively., Australia., Australia., Australia., Australia., Australia., Thailand., Thailand., UK., Australia., Australia.,  Australia., Australia., Australia., Australia., India., USA., Colombia., Colombia., Colombia., Mexico., A., CO 80522., 94., Bangladesh., Bangladesh., Bangladesh., Bangladesh., Bangladesh.,  Bangladesh.,  Bangladesh.,  Bangladesh.,  Bangladesh.,  Bangladesh.,  Bangladesh., Australia.,  Bangladesh., Bangladesh., PerÃº., PerÃº., PerÃº., PerÃº., PerÃº., France., Thailand., United States., United States., Thailand., Thailand., United States.,  Brazil.,  Brazil., Brazil.,  Brazil., SLACK Incorporated., USA., Germany., Singapore., Singapore., Singapore.,  etc., Mexico., Cuba., Malaysia., Mexico., Singapore., Cuba., Mexico., N., N., New Caledonia., New Caledonia., New Caledonia., New Caledonia., France., New Caledonia., New Caledonia., New Caledonia., New Caledonia., New Caledonia., New Caledonia., New Caledonia., New Caledonia., New Caledonia., New Caledonia., New Caledonia., Venezuela., ix., prevention., San Juan., Cuba., Brazil., Germany., Rotherham., Mexico., 55.,  Colombia., Colombia., Chile., Chile., USA., USA., Australia., Australia., Viet  Nam.,  Viet Nam., Australia., Australia., United Kingdom., Cuba., USA.,  The Netherlands., Brazil., Brazil., Brazil.,  The Netherlands., Brazil.,  The Netherlands., Portugal., Indonesia., Indonesia., including DENV., Indonesia., Indonesia., Indonesia., Indonesia., Indonesia., NY 10036., N., Aedes spp., USA., Brazil., Singapore., Punjab., Punjab., Punjab., Punjab., Paris.,  aggressive syndrome., etc., Inc., India., India., India., USA., USA., St., USA., USA., N., N., Vietnam., Vietnam., Nagasaki University., Sri  Lanka.,  Malaysia., US$, US$, and US$, respectively.,  Indonesia.,  Massachusetts., Dr., Indonesia.,  Massachusetts., United Kingdom., United Kingdom.,  Massachusetts., Thailand., Vietnam., India., India., India., India., India., India., India., Vietnam., N., Netherlands., Netherlands., Portugal., India., UK., Netherlands., Brazil., Brazil., UK., etc., Nice., France., N., U., and cough., and leukopenia., Australia., Bhutan., Australia., Australia., Australia., Australia., Australia., Malaysia., Japan., Japan., Malaysia., Japan., Malaysia., Malaysia., Malaysia., Malaysia., Malaysia., Malaysia., Malaysia., Malaysia., Thailand., N., USA., Thailand., Bethesda.,  Maryland., and prevention., USA., Thailand., San Juan., Guadeloupe.,  Switzerland., and prevention.,  Malaysia., Indonesia.,  Indonesia., UK., Providence., Providence., N., Cuba., Singapore., USA., USA.,  USA.,  USA., USA., Belgium.,  USA., USA., 2015., 20., 15., Palestine., Palestine., India., India., USA., USA., respectively., Thailand., Switzerland., India., Switzerland., Switzerland., Brazil.,  Brazil., remains symptomatic., France., U., USA.,  Italy., Italy.,  Italy., Italy., Italy.,  Italy., Italy.,  Italy., Italy., UK., UK., Brazil., Brazil., Singapore 117549., Singapore 138675., Singapore 308442., Singapore 117549., Singapore 308442., Singapore 308433.,  Singapore 117597., Singapore 636921., Singapore 308442., Singapore 308433.,  Singapore 117597., Singapore 636921., Singapore 117549., Singapore 308433., Singapore 117549., Belgium., Belgium., Belgium.,  Brazil.,  Brazil., Nicaragua., Brazil., Sri Lanka., N., Australia., Australia., Australia., Australia., Australia., Australia., Australia., Australia., Canada., United  Kingdom., Canada., Peru., Peru., Canada., Canada., India., India., India., USA., USA.,  USA., USA., USA., USA., N., were calculated., Kottiyam., were uncommon., and hyponatremia., without mortality., Israel., were included., southern Vietnam., The Netherlands., UK  david., Indonesia., Indonesia., Indonesia., Indonesia.,  respectively.,  USA., India.,  USA., India., India., India., India., India., S.,  Brasil., New Delhi., respectively.,  respectively., India., Maryland., India., India., India., India., India., India., India., Venezuela., Sri Lanka., Kerala., India., Kerala., Kerala., Paris., Malaysia., Sri Lanka., Sri Lanka., Sri Lanka., Sri Lanka., Sri Lanka.,  Sri Lanka., Sri  Lanka., UK., UK., UK., UK.,  USA.,  Indonesia., Vietnam., UK., Indonesia., UK., UK., UK., UK., UK., UK., USA., USA., UK., UK., USA., UK., UK.,  USA., UK., UK., D., Colombia., is terrifying., Oslo., India., Cuba.,  France., Senegal.,  France., Australia.\n"
     ]
    }
   ],
   "source": [
    "characters = \",.\\s\"\n",
    "\n",
    "string = ''.join( x for x in country if x not in characters)\n",
    "print(string)"
   ]
  },
  {
   "cell_type": "code",
   "execution_count": 10,
   "id": "5de2b978-473f-4bb7-9836-713e71d7ae45",
   "metadata": {},
   "outputs": [],
   "source": [
    "zip_coordinates = {}\n",
    "with open('../Tarea-2/coordenadas.txt') as f:\n",
    "    csvr = csv.DictReader(f)"
   ]
  },
  {
   "cell_type": "code",
   "execution_count": 11,
   "id": "9e230084-4a4b-442c-917a-61a2940d26f6",
   "metadata": {},
   "outputs": [
    {
     "ename": "SyntaxError",
     "evalue": "unexpected EOF while parsing (Temp/ipykernel_18324/2895864434.py, line 3)",
     "output_type": "error",
     "traceback": [
      "\u001b[1;36m  File \u001b[1;32m\"C:\\Users\\Usuario\\AppData\\Local\\Temp/ipykernel_18324/2895864434.py\"\u001b[1;36m, line \u001b[1;32m3\u001b[0m\n\u001b[1;33m    float(row['LNG'])\u001b[0m\n\u001b[1;37m                     ^\u001b[0m\n\u001b[1;31mSyntaxError\u001b[0m\u001b[1;31m:\u001b[0m unexpected EOF while parsing\n"
     ]
    }
   ],
   "source": [
    "for row in csvr:\n",
    "    zip_coordinates[row['ZIP']] = [float(row['LAT']), \n",
    "                                       float(row['LNG'])"
   ]
  },
  {
   "cell_type": "code",
   "execution_count": null,
   "id": "50214e57-2b07-4a5e-9df4-44e8db742164",
   "metadata": {},
   "outputs": [],
   "source": [
    "\n"
   ]
  },
  {
   "cell_type": "code",
   "execution_count": 86,
   "id": "9dafac6a-bfae-454c-8613-dd0ac7c38c0b",
   "metadata": {},
   "outputs": [
    {
     "data": {
      "text/plain": [
       "['USA', 'USA', 'USA', 'USA', 'UK', 'UK', 'UK', 'USA', 'UK', 'UK']"
      ]
     },
     "execution_count": 86,
     "metadata": {},
     "output_type": "execute_result"
    }
   ],
   "source": [
    "unique_countries[:10]"
   ]
  },
  {
   "cell_type": "code",
   "execution_count": null,
   "id": "e5ae2c83-b0de-4b4d-a9ef-d07edb0f038a",
   "metadata": {},
   "outputs": [],
   "source": [
    "\n"
   ]
  },
  {
   "cell_type": "code",
   "execution_count": null,
   "id": "b0264959-e8f1-4655-8c52-7d6d354a66a3",
   "metadata": {},
   "outputs": [],
   "source": []
  },
  {
   "cell_type": "code",
   "execution_count": null,
   "id": "51bb6f5b-4d6f-4291-aafb-8528bb42beda",
   "metadata": {},
   "outputs": [],
   "source": []
  },
  {
   "cell_type": "code",
   "execution_count": null,
   "id": "bf47723c-591e-4766-ad79-235202c45f2e",
   "metadata": {},
   "outputs": [],
   "source": []
  }
 ],
 "metadata": {
  "kernelspec": {
   "display_name": "Python 3 (ipykernel)",
   "language": "python",
   "name": "python3"
  },
  "language_info": {
   "codemirror_mode": {
    "name": "ipython",
    "version": 3
   },
   "file_extension": ".py",
   "mimetype": "text/x-python",
   "name": "python",
   "nbconvert_exporter": "python",
   "pygments_lexer": "ipython3",
   "version": "3.9.7"
  }
 },
 "nbformat": 4,
 "nbformat_minor": 5
}
