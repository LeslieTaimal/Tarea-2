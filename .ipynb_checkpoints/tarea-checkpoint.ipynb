{
 "cells": [
  {
   "cell_type": "code",
   "execution_count": null,
   "id": "3f3cc364-d2e9-4709-a3f7-7b5e5370e492",
   "metadata": {},
   "outputs": [],
   "source": [
    "import re\n",
    "import csv"
   ]
  },
  {
   "cell_type": "code",
   "execution_count": null,
   "id": "7aee7c60-33f3-476d-a84a-cd41de92f033",
   "metadata": {},
   "outputs": [],
   "source": [
    "with open('../Tarea2/pubmed-dengue-set.nbib') as f:\n",
    "    my_text = f.read()"
   ]
  },
  {
   "cell_type": "code",
   "execution_count": null,
   "id": "bb546d8c-6dd6-4e24-85b7-09585bf7be76",
   "metadata": {},
   "outputs": [
    {
     "data": {
      "text/plain": [
       "526538"
      ]
     },
     "execution_count": 10,
     "metadata": {},
     "output_type": "execute_result"
    }
   ],
   "source": [
    "len(my_text)"
   ]
  },
  {
   "cell_type": "code",
   "execution_count": null,
   "id": "06013610-a0a3-4f55-a047-69b7100de33d",
   "metadata": {},
   "outputs": [],
   "source": [
    "my_text = re.sub(r'\\n\\s{6}', ' ', my_text)"
   ]
  },
  {
   "cell_type": "code",
   "execution_count": null,
   "id": "d4efd9b3-7326-492a-a1c0-bbfaf5ec182e",
   "metadata": {},
   "outputs": [],
   "source": [
    "country = re.findall(r'[,]+[\\s]+[\\w]+[.=$]|[,]+[\\s]+[\\w]+[\\s]+[\\w]+[.=$]', my_text)"
   ]
  },
  {
   "cell_type": "code",
   "execution_count": null,
   "id": "8d73656d-99ae-4b8d-a0ae-416a1f5d2880",
   "metadata": {},
   "outputs": [
    {
     "data": {
      "text/plain": [
       "592"
      ]
     },
     "execution_count": 13,
     "metadata": {},
     "output_type": "execute_result"
    }
   ],
   "source": [
    "len(country)"
   ]
  },
  {
   "cell_type": "code",
   "execution_count": null,
   "id": "0b2d586a-b710-4e9b-b468-8a9f3444c2b0",
   "metadata": {},
   "outputs": [
    {
     "data": {
      "text/plain": [
       "[', Cuba.',\n",
       " ', USA.',\n",
       " ', India.',\n",
       " ', India.',\n",
       " ', and control.',\n",
       " ', USA.',\n",
       " ', The Netherlands.',\n",
       " ', The Netherlands.',\n",
       " ', Viet Nam.',\n",
       " ', USA.']"
      ]
     },
     "execution_count": 14,
     "metadata": {},
     "output_type": "execute_result"
    }
   ],
   "source": [
    "country[:10]"
   ]
  },
  {
   "cell_type": "code",
   "execution_count": 32,
   "id": "690e7a04-1785-4a3f-ba55-86e89bc65bb2",
   "metadata": {},
   "outputs": [
    {
     "name": "stdout",
     "output_type": "stream",
     "text": [
      ", Cuba., USA., India., India., and control., USA., The Netherlands., The Netherlands., Viet Nam., USA., Philippines.,  with 13., Brazil., Brazil., Brazil., Brazil., Brazil., Brazil., Brazil., Brazil., Brazil., Brazil., Brazil., Brazil., USA., Brazil., Brazil., Qatar., Qatar., Qatar.,  France., France.,  France., UK., Ave., N., Mexico., Mexico., Ave., N., Mexico., Mexico., CP., Mexico., Mexico.,  Malaysia., Ave., N., Mexico., UK., UK., USA., UK., UK., UK., UK., UK., UK., UK., Australia., USA., USA., USA., USA.,  USA., India., USA., Singapore., Singapore., Singapore.,  Singapore., Singapore., USA., UK., UK., Vietnam., Maryland., Maryland., Maryland., Brazil., and leukopenia., Ludhiana., Chennai., Ltd., Sri Lanka., UK., Sri  Lanka., Singapore., California., are  scarce., USA.,  USA., USA., genus Flavivirus., Australia., Vietnam., Malaysia., Malaysia., Malaysia., Malaysia., Malaysia.,  Malaysia., Malaysia., Malaysia., USA., USA., USA., British Columbia., UK., UK.,  Georgia., Switzerland., Aedes albopictus., Portugal.,  Pakistan.,  Pakistan.,  Pakistan.,  Pakistan.,  Pakistan., Pakistan., Treatment., Japan., USA., Nepal., UK., India., Turkey., Belize., Costa  Rica., Sweden., India., USA., PR., PR., N., U., P., simultaneously., India., with 2., UK., France., ROC.,  ROC.,  ROC., ROC., and thrombocytopenia., etc., India., Brasil., and thrombocytopenia.,  Thailand., Switzerland., Switzerland., Congo., UK., Switzerland., Colombia., Honduras., Honduras., Panama.,  USA., USA.,  Thailand., Thailand., P., United States., Indonesia., Philippines., Philippines., Indonesia., UK., Philippines., USA., Indonesia., 85., and 66.,  respectively., Australia., Australia., Australia., Australia., Australia., Thailand., Thailand., UK., Australia., Australia.,  Australia., Australia., Australia., Australia., India., USA., Colombia., Colombia., Colombia., Mexico., A., CO 80522., 94., Bangladesh., Bangladesh., Bangladesh., Bangladesh., Bangladesh.,  Bangladesh.,  Bangladesh.,  Bangladesh.,  Bangladesh.,  Bangladesh.,  Bangladesh., Australia.,  Bangladesh., Bangladesh., PerÃº., PerÃº., PerÃº., PerÃº., PerÃº., France., Thailand., United States., United States., Thailand., Thailand., United States.,  Brazil.,  Brazil., Brazil.,  Brazil., SLACK Incorporated., USA., Germany., Singapore., Singapore., Singapore.,  etc., Mexico., Cuba., Malaysia., Mexico., Singapore., Cuba., Mexico., N., N., New Caledonia., New Caledonia., New Caledonia., New Caledonia., France., New Caledonia., New Caledonia., New Caledonia., New Caledonia., New Caledonia., New Caledonia., New Caledonia., New Caledonia., New Caledonia., New Caledonia., New Caledonia., Venezuela., ix., prevention., San Juan., Cuba., Brazil., Germany., Rotherham., Mexico., 55.,  Colombia., Colombia., Chile., Chile., USA., USA., Australia., Australia., Viet  Nam.,  Viet Nam., Australia., Australia., United Kingdom., Cuba., USA.,  The Netherlands., Brazil., Brazil., Brazil.,  The Netherlands., Brazil.,  The Netherlands., Portugal., Indonesia., Indonesia., including DENV., Indonesia., Indonesia., Indonesia., Indonesia., Indonesia., NY 10036., N., Aedes spp., USA., Brazil., Singapore., Punjab., Punjab., Punjab., Punjab., Paris.,  aggressive syndrome., etc., Inc., India., India., India., USA., USA., St., USA., USA., N., N., Vietnam., Vietnam., Nagasaki University., Sri  Lanka.,  Malaysia., US$, US$, and US$, respectively.,  Indonesia.,  Massachusetts., Dr., Indonesia.,  Massachusetts., United Kingdom., United Kingdom.,  Massachusetts., Thailand., Vietnam., India., India., India., India., India., India., India., Vietnam., N., Netherlands., Netherlands., Portugal., India., UK., Netherlands., Brazil., Brazil., UK., etc., Nice., France., N., U., and cough., and leukopenia., Australia., Bhutan., Australia., Australia., Australia., Australia., Australia., Malaysia., Japan., Japan., Malaysia., Japan., Malaysia., Malaysia., Malaysia., Malaysia., Malaysia., Malaysia., Malaysia., Malaysia., Thailand., N., USA., Thailand., Bethesda.,  Maryland., and prevention., USA., Thailand., San Juan., Guadeloupe.,  Switzerland., and prevention.,  Malaysia., Indonesia.,  Indonesia., UK., Providence., Providence., N., Cuba., Singapore., USA., USA.,  USA.,  USA., USA., Belgium.,  USA., USA., 2015., 20., 15., Palestine., Palestine., India., India., USA., USA., respectively., Thailand., Switzerland., India., Switzerland., Switzerland., Brazil.,  Brazil., remains symptomatic., France., U., USA.,  Italy., Italy.,  Italy., Italy., Italy.,  Italy., Italy.,  Italy., Italy., UK., UK., Brazil., Brazil., Singapore 117549., Singapore 138675., Singapore 308442., Singapore 117549., Singapore 308442., Singapore 308433.,  Singapore 117597., Singapore 636921., Singapore 308442., Singapore 308433.,  Singapore 117597., Singapore 636921., Singapore 117549., Singapore 308433., Singapore 117549., Belgium., Belgium., Belgium.,  Brazil.,  Brazil., Nicaragua., Brazil., Sri Lanka., N., Australia., Australia., Australia., Australia., Australia., Australia., Australia., Australia., Canada., United  Kingdom., Canada., Peru., Peru., Canada., Canada., India., India., India., USA., USA.,  USA., USA., USA., USA., N., were calculated., Kottiyam., were uncommon., and hyponatremia., without mortality., Israel., were included., southern Vietnam., The Netherlands., UK  david., Indonesia., Indonesia., Indonesia., Indonesia.,  respectively.,  USA., India.,  USA., India., India., India., India., India., S.,  Brasil., New Delhi., respectively.,  respectively., India., Maryland., India., India., India., India., India., India., India., Venezuela., Sri Lanka., Kerala., India., Kerala., Kerala., Paris., Malaysia., Sri Lanka., Sri Lanka., Sri Lanka., Sri Lanka., Sri Lanka.,  Sri Lanka., Sri  Lanka., UK., UK., UK., UK.,  USA.,  Indonesia., Vietnam., UK., Indonesia., UK., UK., UK., UK., UK., UK., USA., USA., UK., UK., USA., UK., UK.,  USA., UK., UK., D., Colombia., is terrifying., Oslo., India., Cuba.,  France., Senegal.,  France., Australia.\n"
     ]
    }
   ],
   "source": [
    "characters = \",.\\s\"\n",
    "\n",
    "string = ''.join( x for x in country if x not in characters)\n",
    "print(string)"
   ]
  },
  {
   "cell_type": "code",
   "execution_count": 36,
   "id": "5de2b978-473f-4bb7-9836-713e71d7ae45",
   "metadata": {},
   "outputs": [
    {
     "ename": "IndentationError",
     "evalue": "expected an indented block (Temp/ipykernel_15436/2856230262.py, line 2)",
     "output_type": "error",
     "traceback": [
      "\u001b[1;36m  File \u001b[1;32m\"C:\\Users\\Usuario\\AppData\\Local\\Temp/ipykernel_15436/2856230262.py\"\u001b[1;36m, line \u001b[1;32m2\u001b[0m\n\u001b[1;33m    with open('..Tarea2/coordenadas.txt') as f:\u001b[0m\n\u001b[1;37m                                               ^\u001b[0m\n\u001b[1;31mIndentationError\u001b[0m\u001b[1;31m:\u001b[0m expected an indented block\n"
     ]
    }
   ],
   "source": [
    "zip_coordinates = {}\n",
    "with open('..Tarea2/coordenadas.txt') as f:"
   ]
  },
  {
   "cell_type": "code",
   "execution_count": 38,
   "id": "9e230084-4a4b-442c-917a-61a2940d26f6",
   "metadata": {},
   "outputs": [
    {
     "data": {
      "text/plain": [
       "5989"
      ]
     },
     "execution_count": 38,
     "metadata": {},
     "output_type": "execute_result"
    }
   ],
   "source": [
    "len(string)"
   ]
  },
  {
   "cell_type": "code",
   "execution_count": null,
   "id": "50214e57-2b07-4a5e-9df4-44e8db742164",
   "metadata": {},
   "outputs": [],
   "source": [
    "\n"
   ]
  },
  {
   "cell_type": "code",
   "execution_count": 86,
   "id": "9dafac6a-bfae-454c-8613-dd0ac7c38c0b",
   "metadata": {},
   "outputs": [
    {
     "data": {
      "text/plain": [
       "['USA', 'USA', 'USA', 'USA', 'UK', 'UK', 'UK', 'USA', 'UK', 'UK']"
      ]
     },
     "execution_count": 86,
     "metadata": {},
     "output_type": "execute_result"
    }
   ],
   "source": [
    "unique_countries[:10]"
   ]
  },
  {
   "cell_type": "code",
   "execution_count": null,
   "id": "e5ae2c83-b0de-4b4d-a9ef-d07edb0f038a",
   "metadata": {},
   "outputs": [],
   "source": [
    "\n"
   ]
  },
  {
   "cell_type": "code",
   "execution_count": null,
   "id": "b0264959-e8f1-4655-8c52-7d6d354a66a3",
   "metadata": {},
   "outputs": [],
   "source": []
  },
  {
   "cell_type": "code",
   "execution_count": null,
   "id": "51bb6f5b-4d6f-4291-aafb-8528bb42beda",
   "metadata": {},
   "outputs": [],
   "source": []
  },
  {
   "cell_type": "code",
   "execution_count": null,
   "id": "bf47723c-591e-4766-ad79-235202c45f2e",
   "metadata": {},
   "outputs": [],
   "source": []
  }
 ],
 "metadata": {
  "kernelspec": {
   "display_name": "Python 3 (ipykernel)",
   "language": "python",
   "name": "python3"
  },
  "language_info": {
   "codemirror_mode": {
    "name": "ipython",
    "version": 3
   },
   "file_extension": ".py",
   "mimetype": "text/x-python",
   "name": "python",
   "nbconvert_exporter": "python",
   "pygments_lexer": "ipython3",
   "version": "3.9.7"
  }
 },
 "nbformat": 4,
 "nbformat_minor": 5
}
