{
 "cells": [
  {
   "cell_type": "code",
   "execution_count": 4,
   "id": "3f3cc364-d2e9-4709-a3f7-7b5e5370e492",
   "metadata": {},
   "outputs": [],
   "source": [
    "import re\n",
    "import csv"
   ]
  },
  {
   "cell_type": "code",
   "execution_count": 5,
   "id": "7aee7c60-33f3-476d-a84a-cd41de92f033",
   "metadata": {},
   "outputs": [],
   "source": [
    "with open('../Tarea-2/pubmed-dengue-set.nbib') as f:\n",
    "    my_text = f.read()"
   ]
  },
  {
   "cell_type": "code",
   "execution_count": 6,
   "id": "bb546d8c-6dd6-4e24-85b7-09585bf7be76",
   "metadata": {},
   "outputs": [
    {
     "data": {
      "text/plain": [
       "526538"
      ]
     },
     "execution_count": 6,
     "metadata": {},
     "output_type": "execute_result"
    }
   ],
   "source": [
    "len(my_text)"
   ]
  },
  {
   "cell_type": "code",
   "execution_count": 7,
   "id": "06013610-a0a3-4f55-a047-69b7100de33d",
   "metadata": {},
   "outputs": [],
   "source": [
    "my_text = re.sub(r'\\n\\s{6}', ' ', my_text)"
   ]
  },
  {
   "cell_type": "code",
   "execution_count": 148,
   "id": "d4efd9b3-7326-492a-a1c0-bbfaf5ec182e",
   "metadata": {},
   "outputs": [],
   "source": [
    "country = re.findall(r'[,]+[\\s]+[\\w]+[.=$]|[,]+[\\s]+[\\w]+[\\s]+[\\w]+[.=$]', my_text)#Se coloco este código para que salgan tambien los países que contenian 2 palabras "
   ]
  },
  {
   "cell_type": "code",
   "execution_count": 149,
   "id": "cf04f158",
   "metadata": {},
   "outputs": [
    {
     "data": {
      "text/plain": [
       "592"
      ]
     },
     "execution_count": 149,
     "metadata": {},
     "output_type": "execute_result"
    }
   ],
   "source": [
    "len(country)"
   ]
  },
  {
   "cell_type": "code",
   "execution_count": 150,
   "id": "0b2d586a-b710-4e9b-b468-8a9f3444c2b0",
   "metadata": {},
   "outputs": [
    {
     "data": {
      "text/plain": [
       "[', Cuba.',\n",
       " ', USA.',\n",
       " ', India.',\n",
       " ', India.',\n",
       " ', and control.',\n",
       " ', USA.',\n",
       " ', The Netherlands.',\n",
       " ', The Netherlands.',\n",
       " ', Viet Nam.',\n",
       " ', USA.']"
      ]
     },
     "execution_count": 150,
     "metadata": {},
     "output_type": "execute_result"
    }
   ],
   "source": [
    "country[:10]"
   ]
  },
  {
   "cell_type": "code",
   "execution_count": 140,
   "id": "1df539f4",
   "metadata": {},
   "outputs": [],
   "source": [
    "unique_country = list(set(country))"
   ]
  },
  {
   "cell_type": "code",
   "execution_count": 141,
   "id": "d27c0fca",
   "metadata": {},
   "outputs": [
    {
     "data": {
      "text/plain": [
       "154"
      ]
     },
     "execution_count": 141,
     "metadata": {},
     "output_type": "execute_result"
    }
   ],
   "source": [
    "len(unique_country)"
   ]
  },
  {
   "cell_type": "code",
   "execution_count": 142,
   "id": "b402aba9",
   "metadata": {},
   "outputs": [
    {
     "data": {
      "text/plain": [
       "[', Inc.',\n",
       " ', Germany.',\n",
       " ',  Australia.',\n",
       " ', California.',\n",
       " ', CO 80522.',\n",
       " ', New Caledonia.',\n",
       " ', and leukopenia.',\n",
       " ', New Delhi.',\n",
       " ', Canada.',\n",
       " ', Panama.',\n",
       " ', Belgium.',\n",
       " ', Ave.',\n",
       " ', Costa  Rica.',\n",
       " ', Congo.',\n",
       " ', Punjab.',\n",
       " ',  Maryland.',\n",
       " ', Singapore 138675.',\n",
       " ', Viet  Nam.',\n",
       " ', Thailand.',\n",
       " ', Nice.',\n",
       " ',  France.',\n",
       " ', 94.',\n",
       " ', ROC.',\n",
       " ', Switzerland.',\n",
       " ',  aggressive syndrome.',\n",
       " ', Philippines.',\n",
       " ', Honduras.',\n",
       " ', PerÃº.',\n",
       " ',  Brazil.',\n",
       " ', Brazil.',\n",
       " ', Qatar.',\n",
       " ', Kerala.',\n",
       " ', Colombia.',\n",
       " ',  ROC.',\n",
       " ', NY 10036.',\n",
       " ', 85.',\n",
       " ', remains symptomatic.',\n",
       " ', Oslo.',\n",
       " ', Guadeloupe.',\n",
       " ', United Kingdom.',\n",
       " ', Singapore 308433.',\n",
       " ',  respectively.',\n",
       " ', 2015.',\n",
       " ',  Bangladesh.',\n",
       " ', 55.',\n",
       " ', Vietnam.',\n",
       " ', Singapore 117549.',\n",
       " ', Singapore 308442.',\n",
       " ', Dr.',\n",
       " ', 15.',\n",
       " ',  Pakistan.',\n",
       " ', without mortality.',\n",
       " ', prevention.',\n",
       " ',  Colombia.',\n",
       " ', 20.',\n",
       " ',  Switzerland.',\n",
       " ', USA.',\n",
       " ',  Italy.',\n",
       " ', Pakistan.',\n",
       " ', Cuba.',\n",
       " ', Japan.',\n",
       " ', and prevention.',\n",
       " ', Ltd.',\n",
       " ', Peru.',\n",
       " ', Maryland.',\n",
       " ', and 66.',\n",
       " ', Chennai.',\n",
       " ', Nepal.',\n",
       " ', United  Kingdom.',\n",
       " ', Nicaragua.',\n",
       " ', Paris.',\n",
       " ', US$',\n",
       " ', PR.',\n",
       " ', were uncommon.',\n",
       " ',  Thailand.',\n",
       " ', N.',\n",
       " ', SLACK Incorporated.',\n",
       " ', were included.',\n",
       " ',  Brasil.',\n",
       " ', Malaysia.',\n",
       " ', Senegal.',\n",
       " ',  Malaysia.',\n",
       " ',  Viet Nam.',\n",
       " ',  Massachusetts.',\n",
       " ', P.',\n",
       " ', Singapore 636921.',\n",
       " ',  USA.',\n",
       " ', Kottiyam.',\n",
       " ', Viet Nam.',\n",
       " ', Netherlands.',\n",
       " ', United States.',\n",
       " ', etc.',\n",
       " ', Palestine.',\n",
       " ', Brasil.',\n",
       " ', and US$',\n",
       " ', Bangladesh.',\n",
       " ', India.',\n",
       " ', were calculated.',\n",
       " ', Sri  Lanka.',\n",
       " ', are  scarce.',\n",
       " ', Providence.',\n",
       " ', S.',\n",
       " ', genus Flavivirus.',\n",
       " ', Bethesda.',\n",
       " ', and thrombocytopenia.',\n",
       " ', CP.',\n",
       " ', and control.',\n",
       " ', Turkey.',\n",
       " ', France.',\n",
       " ', Ludhiana.',\n",
       " ',  etc.',\n",
       " ', including DENV.',\n",
       " ',  Singapore.',\n",
       " ', with 2.',\n",
       " ', A.',\n",
       " ',  The Netherlands.',\n",
       " ',  Georgia.',\n",
       " ', Treatment.',\n",
       " ', Mexico.',\n",
       " ',  Sri Lanka.',\n",
       " ', St.',\n",
       " ', Rotherham.',\n",
       " ', Aedes spp.',\n",
       " ', Belize.',\n",
       " ', British Columbia.',\n",
       " ', D.',\n",
       " ', UK.',\n",
       " ', Australia.',\n",
       " ', simultaneously.',\n",
       " ',  Indonesia.',\n",
       " ', southern Vietnam.',\n",
       " ', Venezuela.',\n",
       " ', respectively.',\n",
       " ', Portugal.',\n",
       " ', UK  david.',\n",
       " ', Sweden.',\n",
       " ', Bhutan.',\n",
       " ', Singapore.',\n",
       " ', and cough.',\n",
       " ',  with 13.',\n",
       " ', ix.',\n",
       " ', The Netherlands.',\n",
       " ', Nagasaki University.',\n",
       " ', Aedes albopictus.',\n",
       " ', Indonesia.',\n",
       " ', Chile.',\n",
       " ', is terrifying.',\n",
       " ',  Singapore 117597.',\n",
       " ', U.',\n",
       " ', Israel.',\n",
       " ', and hyponatremia.',\n",
       " ', San Juan.',\n",
       " ', Italy.',\n",
       " ', Sri Lanka.']"
      ]
     },
     "execution_count": 142,
     "metadata": {},
     "output_type": "execute_result"
    }
   ],
   "source": [
    "unique_country"
   ]
  },
  {
   "cell_type": "code",
   "execution_count": 163,
   "id": "57c44f76",
   "metadata": {},
   "outputs": [
    {
     "data": {
      "text/plain": [
       "124"
      ]
     },
     "execution_count": 163,
     "metadata": {},
     "output_type": "execute_result"
    }
   ],
   "source": [
    "countries =unique_country[30:]\n",
    "len (countries)"
   ]
  },
  {
   "cell_type": "code",
   "execution_count": 164,
   "id": "6ebab7ab",
   "metadata": {},
   "outputs": [
    {
     "data": {
      "text/plain": [
       "[', Qatar.',\n",
       " ', Kerala.',\n",
       " ', Colombia.',\n",
       " ',  ROC.',\n",
       " ', NY 10036.',\n",
       " ', 85.',\n",
       " ', remains symptomatic.',\n",
       " ', Oslo.',\n",
       " ', Guadeloupe.',\n",
       " ', United Kingdom.',\n",
       " ', Singapore 308433.',\n",
       " ',  respectively.',\n",
       " ', 2015.',\n",
       " ',  Bangladesh.',\n",
       " ', 55.',\n",
       " ', Vietnam.',\n",
       " ', Singapore 117549.',\n",
       " ', Singapore 308442.',\n",
       " ', Dr.',\n",
       " ', 15.',\n",
       " ',  Pakistan.',\n",
       " ', without mortality.',\n",
       " ', prevention.',\n",
       " ',  Colombia.',\n",
       " ', 20.',\n",
       " ',  Switzerland.',\n",
       " ', USA.',\n",
       " ',  Italy.',\n",
       " ', Pakistan.',\n",
       " ', Cuba.',\n",
       " ', Japan.',\n",
       " ', and prevention.',\n",
       " ', Ltd.',\n",
       " ', Peru.',\n",
       " ', Maryland.',\n",
       " ', and 66.',\n",
       " ', Chennai.',\n",
       " ', Nepal.',\n",
       " ', United  Kingdom.',\n",
       " ', Nicaragua.',\n",
       " ', Paris.',\n",
       " ', US$',\n",
       " ', PR.',\n",
       " ', were uncommon.',\n",
       " ',  Thailand.',\n",
       " ', N.',\n",
       " ', SLACK Incorporated.',\n",
       " ', were included.',\n",
       " ',  Brasil.',\n",
       " ', Malaysia.',\n",
       " ', Senegal.',\n",
       " ',  Malaysia.',\n",
       " ',  Viet Nam.',\n",
       " ',  Massachusetts.',\n",
       " ', P.',\n",
       " ', Singapore 636921.',\n",
       " ',  USA.',\n",
       " ', Kottiyam.',\n",
       " ', Viet Nam.',\n",
       " ', Netherlands.',\n",
       " ', United States.',\n",
       " ', etc.',\n",
       " ', Palestine.',\n",
       " ', Brasil.',\n",
       " ', and US$',\n",
       " ', Bangladesh.',\n",
       " ', India.',\n",
       " ', were calculated.',\n",
       " ', Sri  Lanka.',\n",
       " ', are  scarce.',\n",
       " ', Providence.',\n",
       " ', S.',\n",
       " ', genus Flavivirus.',\n",
       " ', Bethesda.',\n",
       " ', and thrombocytopenia.',\n",
       " ', CP.',\n",
       " ', and control.',\n",
       " ', Turkey.',\n",
       " ', France.',\n",
       " ', Ludhiana.',\n",
       " ',  etc.',\n",
       " ', including DENV.',\n",
       " ',  Singapore.',\n",
       " ', with 2.',\n",
       " ', A.',\n",
       " ',  The Netherlands.',\n",
       " ',  Georgia.',\n",
       " ', Treatment.',\n",
       " ', Mexico.',\n",
       " ',  Sri Lanka.',\n",
       " ', St.',\n",
       " ', Rotherham.',\n",
       " ', Aedes spp.',\n",
       " ', Belize.',\n",
       " ', British Columbia.',\n",
       " ', D.',\n",
       " ', UK.',\n",
       " ', Australia.',\n",
       " ', simultaneously.',\n",
       " ',  Indonesia.',\n",
       " ', southern Vietnam.',\n",
       " ', Venezuela.',\n",
       " ', respectively.',\n",
       " ', Portugal.',\n",
       " ', UK  david.',\n",
       " ', Sweden.',\n",
       " ', Bhutan.',\n",
       " ', Singapore.',\n",
       " ', and cough.',\n",
       " ',  with 13.',\n",
       " ', ix.',\n",
       " ', The Netherlands.',\n",
       " ', Nagasaki University.',\n",
       " ', Aedes albopictus.',\n",
       " ', Indonesia.',\n",
       " ', Chile.',\n",
       " ', is terrifying.',\n",
       " ',  Singapore 117597.',\n",
       " ', U.',\n",
       " ', Israel.',\n",
       " ', and hyponatremia.',\n",
       " ', San Juan.',\n",
       " ', Italy.',\n",
       " ', Sri Lanka.']"
      ]
     },
     "execution_count": 164,
     "metadata": {},
     "output_type": "execute_result"
    }
   ],
   "source": [
    "countries[:124]"
   ]
  },
  {
   "cell_type": "code",
   "execution_count": null,
   "id": "690e7a04-1785-4a3f-ba55-86e89bc65bb2",
   "metadata": {
    "scrolled": true
   },
   "outputs": [],
   "source": [
    "countries_pop"
   ]
  },
  {
   "cell_type": "code",
   "execution_count": 167,
   "id": "197253d6",
   "metadata": {},
   "outputs": [],
   "source": [
    "import re"
   ]
  },
  {
   "cell_type": "code",
   "execution_count": null,
   "id": "c89dd2d5",
   "metadata": {},
   "outputs": [],
   "source": []
  },
  {
   "cell_type": "code",
   "execution_count": null,
   "id": "6fe79cb8",
   "metadata": {},
   "outputs": [],
   "source": []
  },
  {
   "cell_type": "code",
   "execution_count": null,
   "id": "1932b849",
   "metadata": {},
   "outputs": [],
   "source": []
  },
  {
   "cell_type": "code",
   "execution_count": 135,
   "id": "7eb2b717",
   "metadata": {},
   "outputs": [
    {
     "name": "stdout",
     "output_type": "stream",
     "text": [
      "{'name': 'Andorra', 'latitude': '42.546245', 'longitude': '1.601554'}\n",
      "{'name': 'United Arab Emirates', 'latitude': '23.424076', 'longitude': '53.847818'}\n",
      "{'name': 'Afghanistan', 'latitude': '33.93911', 'longitude': '67.709953'}\n",
      "{'name': 'Antigua and Barbuda', 'latitude': '17.060816', 'longitude': '-61.796428'}\n",
      "{'name': 'Anguilla', 'latitude': '18.220554', 'longitude': '-63.068615'}\n",
      "{'name': 'Albania', 'latitude': '41.153332', 'longitude': '20.168331'}\n",
      "{'name': 'Armenia', 'latitude': '40.069099', 'longitude': '45.038189'}\n",
      "{'name': 'Netherlands Antilles', 'latitude': '12.226079', 'longitude': '-69.060087'}\n",
      "{'name': 'Angola', 'latitude': '-11.202692', 'longitude': '17.873887'}\n",
      "{'name': 'Antarctica', 'latitude': '-75.250973', 'longitude': '-0.071389'}\n",
      "{'name': 'Argentina', 'latitude': '-38.416097', 'longitude': '-63.616672'}\n",
      "{'name': 'American Samoa', 'latitude': '-14.270972', 'longitude': '-170.132217'}\n",
      "{'name': 'Austria', 'latitude': '47.516231', 'longitude': '14.550072'}\n",
      "{'name': 'Australia', 'latitude': '-25.274398', 'longitude': '133.775136'}\n",
      "{'name': 'Aruba', 'latitude': '12.52111', 'longitude': '-69.968338'}\n",
      "{'name': 'Azerbaijan', 'latitude': '40.143105', 'longitude': '47.576927'}\n",
      "{'name': 'Bosnia and Herzegovina', 'latitude': '43.915886', 'longitude': '17.679076'}\n",
      "{'name': 'Barbados', 'latitude': '13.193887', 'longitude': '-59.543198'}\n",
      "{'name': 'Bangladesh', 'latitude': '23.684994', 'longitude': '90.356331'}\n",
      "{'name': 'Belgium', 'latitude': '50.503887', 'longitude': '4.469936'}\n",
      "{'name': 'Burkina Faso', 'latitude': '12.238333', 'longitude': '-1.561593'}\n",
      "{'name': 'Bulgaria', 'latitude': '42.733883', 'longitude': '25.48583'}\n",
      "{'name': 'Bahrain', 'latitude': '25.930414', 'longitude': '50.637772'}\n",
      "{'name': 'Burundi', 'latitude': '-3.373056', 'longitude': '29.918886'}\n",
      "{'name': 'Benin', 'latitude': '9.30769', 'longitude': '2.315834'}\n",
      "{'name': 'Bermuda', 'latitude': '32.321384', 'longitude': '-64.75737'}\n",
      "{'name': 'Brunei', 'latitude': '4.535277', 'longitude': '114.727669'}\n",
      "{'name': 'Bolivia', 'latitude': '-16.290154', 'longitude': '-63.588653'}\n",
      "{'name': 'Brazil', 'latitude': '-14.235004', 'longitude': '-51.92528'}\n",
      "{'name': 'Bahamas', 'latitude': '25.03428', 'longitude': '-77.39628'}\n",
      "{'name': 'Bhutan', 'latitude': '27.514162', 'longitude': '90.433601'}\n",
      "{'name': 'Bouvet Island', 'latitude': '-54.423199', 'longitude': '3.413194'}\n",
      "{'name': 'Botswana', 'latitude': '-22.328474', 'longitude': '24.684866'}\n",
      "{'name': 'Belarus', 'latitude': '53.709807', 'longitude': '27.953389'}\n",
      "{'name': 'Belize', 'latitude': '17.189877', 'longitude': '-88.49765'}\n",
      "{'name': 'Canada', 'latitude': '56.130366', 'longitude': '-106.346771'}\n",
      "{'name': 'Cocos [Keeling] Islands', 'latitude': '-12.164165', 'longitude': '96.870956'}\n",
      "{'name': 'Congo [DRC]', 'latitude': '-4.038333', 'longitude': '21.758664'}\n",
      "{'name': 'Central African Republic', 'latitude': '6.611111', 'longitude': '20.939444'}\n",
      "{'name': 'Congo [Republic]', 'latitude': '-0.228021', 'longitude': '15.827659'}\n",
      "{'name': 'Switzerland', 'latitude': '46.818188', 'longitude': '8.227512'}\n",
      "{'name': \"Côte d'Ivoire\", 'latitude': '7.539989', 'longitude': '-5.54708'}\n",
      "{'name': 'Cook Islands', 'latitude': '-21.236736', 'longitude': '-159.777671'}\n",
      "{'name': 'Chile', 'latitude': '-35.675147', 'longitude': '-71.542969'}\n",
      "{'name': 'Cameroon', 'latitude': '7.369722', 'longitude': '12.354722'}\n",
      "{'name': 'China', 'latitude': '35.86166', 'longitude': '104.195397'}\n",
      "{'name': 'Colombia', 'latitude': '4.570868', 'longitude': '-74.297333'}\n",
      "{'name': 'Costa Rica', 'latitude': '9.748917', 'longitude': '-83.753428'}\n",
      "{'name': 'Cuba', 'latitude': '21.521757', 'longitude': '-77.781167'}\n",
      "{'name': 'Cape Verde', 'latitude': '16.002082', 'longitude': '-24.013197'}\n",
      "{'name': 'Christmas Island', 'latitude': '-10.447525', 'longitude': '105.690449'}\n",
      "{'name': 'Cyprus', 'latitude': '35.126413', 'longitude': '33.429859'}\n",
      "{'name': 'Czech Republic', 'latitude': '49.817492', 'longitude': '15.472962'}\n",
      "{'name': 'Germany', 'latitude': '51.165691', 'longitude': '10.451526'}\n",
      "{'name': 'Djibouti', 'latitude': '11.825138', 'longitude': '42.590275'}\n",
      "{'name': 'Denmark', 'latitude': '56.26392', 'longitude': '9.501785'}\n",
      "{'name': 'Dominica', 'latitude': '15.414999', 'longitude': '-61.370976'}\n",
      "{'name': 'Dominican Republic', 'latitude': '18.735693', 'longitude': '-70.162651'}\n",
      "{'name': 'Algeria', 'latitude': '28.033886', 'longitude': '1.659626'}\n",
      "{'name': 'Ecuador', 'latitude': '-1.831239', 'longitude': '-78.183406'}\n",
      "{'name': 'Estonia', 'latitude': '58.595272', 'longitude': '25.013607'}\n",
      "{'name': 'Egypt', 'latitude': '26.820553', 'longitude': '30.802498'}\n",
      "{'name': 'Western Sahara', 'latitude': '24.215527', 'longitude': '-12.885834'}\n",
      "{'name': 'Eritrea', 'latitude': '15.179384', 'longitude': '39.782334'}\n",
      "{'name': 'Spain', 'latitude': '40.463667', 'longitude': '-3.74922'}\n",
      "{'name': 'Ethiopia', 'latitude': '9.145', 'longitude': '40.489673'}\n",
      "{'name': 'Finland', 'latitude': '61.92411', 'longitude': '25.748151'}\n",
      "{'name': 'Fiji', 'latitude': '-16.578193', 'longitude': '179.414413'}\n",
      "{'name': 'Falkland Islands [Islas Malvinas]', 'latitude': '-51.796253', 'longitude': '-59.523613'}\n",
      "{'name': 'Micronesia', 'latitude': '7.425554', 'longitude': '150.550812'}\n",
      "{'name': 'Faroe Islands', 'latitude': '61.892635', 'longitude': '-6.911806'}\n",
      "{'name': 'France', 'latitude': '46.227638', 'longitude': '2.213749'}\n",
      "{'name': 'Gabon', 'latitude': '-0.803689', 'longitude': '11.609444'}\n",
      "{'name': 'United Kingdom', 'latitude': '55.378051', 'longitude': '-3.435973'}\n",
      "{'name': 'Grenada', 'latitude': '12.262776', 'longitude': '-61.604171'}\n",
      "{'name': 'Georgia', 'latitude': '42.315407', 'longitude': '43.356892'}\n",
      "{'name': 'French Guiana', 'latitude': '3.933889', 'longitude': '-53.125782'}\n",
      "{'name': 'Guernsey', 'latitude': '49.465691', 'longitude': '-2.585278'}\n",
      "{'name': 'Ghana', 'latitude': '7.946527', 'longitude': '-1.023194'}\n",
      "{'name': 'Gibraltar', 'latitude': '36.137741', 'longitude': '-5.345374'}\n",
      "{'name': 'Greenland', 'latitude': '71.706936', 'longitude': '-42.604303'}\n",
      "{'name': 'Gambia', 'latitude': '13.443182', 'longitude': '-15.310139'}\n",
      "{'name': 'Guinea', 'latitude': '9.945587', 'longitude': '-9.696645'}\n",
      "{'name': 'Guadeloupe', 'latitude': '16.995971', 'longitude': '-62.067641'}\n",
      "{'name': 'Equatorial Guinea', 'latitude': '1.650801', 'longitude': '10.267895'}\n",
      "{'name': 'Greece', 'latitude': '39.074208', 'longitude': '21.824312'}\n",
      "{'name': 'South Georgia and the South Sandwich Islands', 'latitude': '-54.429579', 'longitude': '-36.587909'}\n",
      "{'name': 'Guatemala', 'latitude': '15.783471', 'longitude': '-90.230759'}\n",
      "{'name': 'Guam', 'latitude': '13.444304', 'longitude': '144.793731'}\n",
      "{'name': 'Guinea-Bissau', 'latitude': '11.803749', 'longitude': '-15.180413'}\n",
      "{'name': 'Guyana', 'latitude': '4.860416', 'longitude': '-58.93018'}\n",
      "{'name': 'Gaza Strip', 'latitude': '31.354676', 'longitude': '34.308825'}\n",
      "{'name': 'Hong Kong', 'latitude': '22.396428', 'longitude': '114.109497'}\n",
      "{'name': 'Heard Island and McDonald Islands', 'latitude': '-53.08181', 'longitude': '73.504158'}\n",
      "{'name': 'Honduras', 'latitude': '15.199999', 'longitude': '-86.241905'}\n",
      "{'name': 'Croatia', 'latitude': '45.1', 'longitude': '15.2'}\n",
      "{'name': 'Haiti', 'latitude': '18.971187', 'longitude': '-72.285215'}\n",
      "{'name': 'Hungary', 'latitude': '47.162494', 'longitude': '19.503304'}\n",
      "{'name': 'Indonesia', 'latitude': '-0.789275', 'longitude': '113.921327'}\n",
      "{'name': 'Ireland', 'latitude': '53.41291', 'longitude': '-8.24389'}\n",
      "{'name': 'Israel', 'latitude': '31.046051', 'longitude': '34.851612'}\n",
      "{'name': 'Isle of Man', 'latitude': '54.236107', 'longitude': '-4.548056'}\n",
      "{'name': 'India', 'latitude': '20.593684', 'longitude': '78.96288'}\n",
      "{'name': 'British Indian Ocean Territory', 'latitude': '-6.343194', 'longitude': '71.876519'}\n",
      "{'name': 'Iraq', 'latitude': '33.223191', 'longitude': '43.679291'}\n",
      "{'name': 'Iran', 'latitude': '32.427908', 'longitude': '53.688046'}\n",
      "{'name': 'Iceland', 'latitude': '64.963051', 'longitude': '-19.020835'}\n",
      "{'name': 'Italy', 'latitude': '41.87194', 'longitude': '12.56738'}\n",
      "{'name': 'Jersey', 'latitude': '49.214439', 'longitude': '-2.13125'}\n",
      "{'name': 'Jamaica', 'latitude': '18.109581', 'longitude': '-77.297508'}\n",
      "{'name': 'Jordan', 'latitude': '30.585164', 'longitude': '36.238414'}\n",
      "{'name': 'Japan', 'latitude': '36.204824', 'longitude': '138.252924'}\n",
      "{'name': 'Kenya', 'latitude': '-0.023559', 'longitude': '37.906193'}\n",
      "{'name': 'Kyrgyzstan', 'latitude': '41.20438', 'longitude': '74.766098'}\n",
      "{'name': 'Cambodia', 'latitude': '12.565679', 'longitude': '104.990963'}\n",
      "{'name': 'Kiribati', 'latitude': '-3.370417', 'longitude': '-168.734039'}\n",
      "{'name': 'Comoros', 'latitude': '-11.875001', 'longitude': '43.872219'}\n",
      "{'name': 'Saint Kitts and Nevis', 'latitude': '17.357822', 'longitude': '-62.782998'}\n",
      "{'name': 'North Korea', 'latitude': '40.339852', 'longitude': '127.510093'}\n",
      "{'name': 'South Korea', 'latitude': '35.907757', 'longitude': '127.766922'}\n",
      "{'name': 'Kuwait', 'latitude': '29.31166', 'longitude': '47.481766'}\n",
      "{'name': 'Cayman Islands', 'latitude': '19.513469', 'longitude': '-80.566956'}\n",
      "{'name': 'Kazakhstan', 'latitude': '48.019573', 'longitude': '66.923684'}\n",
      "{'name': 'Laos', 'latitude': '19.85627', 'longitude': '102.495496'}\n",
      "{'name': 'Lebanon', 'latitude': '33.854721', 'longitude': '35.862285'}\n",
      "{'name': 'Saint Lucia', 'latitude': '13.909444', 'longitude': '-60.978893'}\n",
      "{'name': 'Liechtenstein', 'latitude': '47.166', 'longitude': '9.555373'}\n",
      "{'name': 'Sri Lanka', 'latitude': '7.873054', 'longitude': '80.771797'}\n",
      "{'name': 'Liberia', 'latitude': '6.428055', 'longitude': '-9.429499'}\n",
      "{'name': 'Lesotho', 'latitude': '-29.609988', 'longitude': '28.233608'}\n",
      "{'name': 'Lithuania', 'latitude': '55.169438', 'longitude': '23.881275'}\n",
      "{'name': 'Luxembourg', 'latitude': '49.815273', 'longitude': '6.129583'}\n",
      "{'name': 'Latvia', 'latitude': '56.879635', 'longitude': '24.603189'}\n",
      "{'name': 'Libya', 'latitude': '26.3351', 'longitude': '17.228331'}\n",
      "{'name': 'Morocco', 'latitude': '31.791702', 'longitude': '-7.09262'}\n",
      "{'name': 'Monaco', 'latitude': '43.750298', 'longitude': '7.412841'}\n",
      "{'name': 'Moldova', 'latitude': '47.411631', 'longitude': '28.369885'}\n",
      "{'name': 'Montenegro', 'latitude': '42.708678', 'longitude': '19.37439'}\n",
      "{'name': 'Madagascar', 'latitude': '-18.766947', 'longitude': '46.869107'}\n",
      "{'name': 'Marshall Islands', 'latitude': '7.131474', 'longitude': '171.184478'}\n",
      "{'name': 'Macedonia [FYROM]', 'latitude': '41.608635', 'longitude': '21.745275'}\n",
      "{'name': 'Mali', 'latitude': '17.570692', 'longitude': '-3.996166'}\n",
      "{'name': 'Myanmar [Burma]', 'latitude': '21.913965', 'longitude': '95.956223'}\n",
      "{'name': 'Mongolia', 'latitude': '46.862496', 'longitude': '103.846656'}\n",
      "{'name': 'Macau', 'latitude': '22.198745', 'longitude': '113.543873'}\n",
      "{'name': 'Northern Mariana Islands', 'latitude': '17.33083', 'longitude': '145.38469'}\n",
      "{'name': 'Martinique', 'latitude': '14.641528', 'longitude': '-61.024174'}\n",
      "{'name': 'Mauritania', 'latitude': '21.00789', 'longitude': '-10.940835'}\n",
      "{'name': 'Montserrat', 'latitude': '16.742498', 'longitude': '-62.187366'}\n",
      "{'name': 'Malta', 'latitude': '35.937496', 'longitude': '14.375416'}\n",
      "{'name': 'Mauritius', 'latitude': '-20.348404', 'longitude': '57.552152'}\n",
      "{'name': 'Maldives', 'latitude': '3.202778', 'longitude': '73.22068'}\n",
      "{'name': 'Malawi', 'latitude': '-13.254308', 'longitude': '34.301525'}\n",
      "{'name': 'Mexico', 'latitude': '23.634501', 'longitude': '-102.552784'}\n",
      "{'name': 'Malaysia', 'latitude': '4.210484', 'longitude': '101.975766'}\n",
      "{'name': 'Mozambique', 'latitude': '-18.665695', 'longitude': '35.529562'}\n",
      "{'name': 'Namibia', 'latitude': '-22.95764', 'longitude': '18.49041'}\n",
      "{'name': 'New Caledonia', 'latitude': '-20.904305', 'longitude': '165.618042'}\n",
      "{'name': 'Niger', 'latitude': '17.607789', 'longitude': '8.081666'}\n",
      "{'name': 'Norfolk Island', 'latitude': '-29.040835', 'longitude': '167.954712'}\n",
      "{'name': 'Nigeria', 'latitude': '9.081999', 'longitude': '8.675277'}\n",
      "{'name': 'Nicaragua', 'latitude': '12.865416', 'longitude': '-85.207229'}\n",
      "{'name': 'Netherlands', 'latitude': '52.132633', 'longitude': '5.291266'}\n",
      "{'name': 'Norway', 'latitude': '60.472024', 'longitude': '8.468946'}\n",
      "{'name': 'Nepal', 'latitude': '28.394857', 'longitude': '84.124008'}\n",
      "{'name': 'Nauru', 'latitude': '-0.522778', 'longitude': '166.931503'}\n",
      "{'name': 'Niue', 'latitude': '-19.054445', 'longitude': '-169.867233'}\n",
      "{'name': 'New Zealand', 'latitude': '-40.900557', 'longitude': '174.885971'}\n",
      "{'name': 'Oman', 'latitude': '21.512583', 'longitude': '55.923255'}\n",
      "{'name': 'Panama', 'latitude': '8.537981', 'longitude': '-80.782127'}\n",
      "{'name': 'Peru', 'latitude': '-9.189967', 'longitude': '-75.015152'}\n",
      "{'name': 'French Polynesia', 'latitude': '-17.679742', 'longitude': '-149.406843'}\n",
      "{'name': 'Papua New Guinea', 'latitude': '-6.314993', 'longitude': '143.95555'}\n",
      "{'name': 'Philippines', 'latitude': '12.879721', 'longitude': '121.774017'}\n",
      "{'name': 'Pakistan', 'latitude': '30.375321', 'longitude': '69.345116'}\n",
      "{'name': 'Poland', 'latitude': '51.919438', 'longitude': '19.145136'}\n",
      "{'name': 'Saint Pierre and Miquelon', 'latitude': '46.941936', 'longitude': '-56.27111'}\n",
      "{'name': 'Pitcairn Islands', 'latitude': '-24.703615', 'longitude': '-127.439308'}\n",
      "{'name': 'Puerto Rico', 'latitude': '18.220833', 'longitude': '-66.590149'}\n",
      "{'name': 'Palestinian Territories', 'latitude': '31.952162', 'longitude': '35.233154'}\n",
      "{'name': 'Portugal', 'latitude': '39.399872', 'longitude': '-8.224454'}\n",
      "{'name': 'Palau', 'latitude': '7.51498', 'longitude': '134.58252'}\n",
      "{'name': 'Paraguay', 'latitude': '-23.442503', 'longitude': '-58.443832'}\n",
      "{'name': 'Qatar', 'latitude': '25.354826', 'longitude': '51.183884'}\n",
      "{'name': 'Réunion', 'latitude': '-21.115141', 'longitude': '55.536384'}\n",
      "{'name': 'Romania', 'latitude': '45.943161', 'longitude': '24.96676'}\n",
      "{'name': 'Serbia', 'latitude': '44.016521', 'longitude': '21.005859'}\n",
      "{'name': 'Russia', 'latitude': '61.52401', 'longitude': '105.318756'}\n",
      "{'name': 'Rwanda', 'latitude': '-1.940278', 'longitude': '29.873888'}\n",
      "{'name': 'Saudi Arabia', 'latitude': '23.885942', 'longitude': '45.079162'}\n",
      "{'name': 'Solomon Islands', 'latitude': '-9.64571', 'longitude': '160.156194'}\n",
      "{'name': 'Seychelles', 'latitude': '-4.679574', 'longitude': '55.491977'}\n",
      "{'name': 'Sudan', 'latitude': '12.862807', 'longitude': '30.217636'}\n",
      "{'name': 'Sweden', 'latitude': '60.128161', 'longitude': '18.643501'}\n",
      "{'name': 'Singapore', 'latitude': '1.352083', 'longitude': '103.819836'}\n",
      "{'name': 'Saint Helena', 'latitude': '-24.143474', 'longitude': '-10.030696'}\n",
      "{'name': 'Slovenia', 'latitude': '46.151241', 'longitude': '14.995463'}\n",
      "{'name': 'Svalbard and Jan Mayen', 'latitude': '77.553604', 'longitude': '23.670272'}\n",
      "{'name': 'Slovakia', 'latitude': '48.669026', 'longitude': '19.699024'}\n",
      "{'name': 'Sierra Leone', 'latitude': '8.460555', 'longitude': '-11.779889'}\n",
      "{'name': 'San Marino', 'latitude': '43.94236', 'longitude': '12.457777'}\n",
      "{'name': 'Senegal', 'latitude': '14.497401', 'longitude': '-14.452362'}\n",
      "{'name': 'Somalia', 'latitude': '5.152149', 'longitude': '46.199616'}\n",
      "{'name': 'Suriname', 'latitude': '3.919305', 'longitude': '-56.027783'}\n",
      "{'name': 'São Tomé and Príncipe', 'latitude': '0.18636', 'longitude': '6.613081'}\n",
      "{'name': 'El Salvador', 'latitude': '13.794185', 'longitude': '-88.89653'}\n",
      "{'name': 'Syria', 'latitude': '34.802075', 'longitude': '38.996815'}\n",
      "{'name': 'Swaziland', 'latitude': '-26.522503', 'longitude': '31.465866'}\n",
      "{'name': 'Turks and Caicos Islands', 'latitude': '21.694025', 'longitude': '-71.797928'}\n",
      "{'name': 'Chad', 'latitude': '15.454166', 'longitude': '18.732207'}\n",
      "{'name': 'French Southern Territories', 'latitude': '-49.280366', 'longitude': '69.348557'}\n",
      "{'name': 'Togo', 'latitude': '8.619543', 'longitude': '0.824782'}\n",
      "{'name': 'Thailand', 'latitude': '15.870032', 'longitude': '100.992541'}\n",
      "{'name': 'Tajikistan', 'latitude': '38.861034', 'longitude': '71.276093'}\n",
      "{'name': 'Tokelau', 'latitude': '-8.967363', 'longitude': '-171.855881'}\n",
      "{'name': 'Timor-Leste', 'latitude': '-8.874217', 'longitude': '125.727539'}\n",
      "{'name': 'Turkmenistan', 'latitude': '38.969719', 'longitude': '59.556278'}\n",
      "{'name': 'Tunisia', 'latitude': '33.886917', 'longitude': '9.537499'}\n",
      "{'name': 'Tonga', 'latitude': '-21.178986', 'longitude': '-175.198242'}\n",
      "{'name': 'Turkey', 'latitude': '38.963745', 'longitude': '35.243322'}\n",
      "{'name': 'Trinidad and Tobago', 'latitude': '10.691803', 'longitude': '-61.222503'}\n",
      "{'name': 'Tuvalu', 'latitude': '-7.109535', 'longitude': '177.64933'}\n",
      "{'name': 'Taiwan', 'latitude': '23.69781', 'longitude': '120.960515'}\n",
      "{'name': 'Tanzania', 'latitude': '-6.369028', 'longitude': '34.888822'}\n",
      "{'name': 'Ukraine', 'latitude': '48.379433', 'longitude': '31.16558'}\n",
      "{'name': 'Uganda', 'latitude': '1.373333', 'longitude': '32.290275'}\n",
      "{'name': 'U.S. Minor Outlying Islands', 'latitude': '', 'longitude': ''}\n",
      "{'name': 'United States', 'latitude': '37.09024', 'longitude': '-95.712891'}\n",
      "{'name': 'Uruguay', 'latitude': '-32.522779', 'longitude': '-55.765835'}\n",
      "{'name': 'Uzbekistan', 'latitude': '41.377491', 'longitude': '64.585262'}\n",
      "{'name': 'Vatican City', 'latitude': '41.902916', 'longitude': '12.453389'}\n",
      "{'name': 'Saint Vincent and the Grenadines', 'latitude': '12.984305', 'longitude': '-61.287228'}\n",
      "{'name': 'Venezuela', 'latitude': '6.42375', 'longitude': '-66.58973'}\n",
      "{'name': 'British Virgin Islands', 'latitude': '18.420695', 'longitude': '-64.639968'}\n",
      "{'name': 'U.S. Virgin Islands', 'latitude': '18.335765', 'longitude': '-64.896335'}\n",
      "{'name': 'Vietnam', 'latitude': '14.058324', 'longitude': '108.277199'}\n",
      "{'name': 'Vanuatu', 'latitude': '-15.376706', 'longitude': '166.959158'}\n",
      "{'name': 'Wallis and Futuna', 'latitude': '-13.768752', 'longitude': '-177.156097'}\n",
      "{'name': 'Samoa', 'latitude': '-13.759029', 'longitude': '-172.104629'}\n",
      "{'name': 'Kosovo', 'latitude': '42.602636', 'longitude': '20.902977'}\n",
      "{'name': 'Yemen', 'latitude': '15.552727', 'longitude': '48.516388'}\n",
      "{'name': 'Mayotte', 'latitude': '-12.8275', 'longitude': '45.166244'}\n",
      "{'name': 'South Africa', 'latitude': '-30.559482', 'longitude': '22.937506'}\n",
      "{'name': 'Zambia', 'latitude': '-13.133897', 'longitude': '27.849332'}\n",
      "{'name': 'Zimbabwe', 'latitude': '-19.015438', 'longitude': '29.154857'}\n"
     ]
    }
   ],
   "source": [
    "import csv\n",
    "with open('coodenadas.csv') as f:\n",
    "    reader = csv.DictReader(f)\n",
    "    for i, row in enumerate(reader):\n",
    "        #imprimir como un diccionario\n",
    "        print(dict(row))\n",
    "        "
   ]
  },
  {
   "cell_type": "code",
   "execution_count": null,
   "id": "8965c6b9",
   "metadata": {},
   "outputs": [],
   "source": [
    "\n"
   ]
  },
  {
   "cell_type": "code",
   "execution_count": null,
   "id": "fdb4ff0e",
   "metadata": {},
   "outputs": [],
   "source": []
  },
  {
   "cell_type": "code",
   "execution_count": null,
   "id": "62d7f8f9",
   "metadata": {},
   "outputs": [],
   "source": [
    "\n"
   ]
  },
  {
   "cell_type": "code",
   "execution_count": 28,
   "id": "5cd56f62",
   "metadata": {},
   "outputs": [],
   "source": []
  },
  {
   "cell_type": "code",
   "execution_count": null,
   "id": "9029220a",
   "metadata": {},
   "outputs": [],
   "source": []
  },
  {
   "cell_type": "code",
   "execution_count": null,
   "id": "f9c392c0",
   "metadata": {},
   "outputs": [],
   "source": []
  },
  {
   "cell_type": "code",
   "execution_count": 12,
   "id": "5de2b978-473f-4bb7-9836-713e71d7ae45",
   "metadata": {},
   "outputs": [],
   "source": []
  },
  {
   "cell_type": "code",
   "execution_count": null,
   "id": "4a4ab5cb",
   "metadata": {},
   "outputs": [],
   "source": []
  },
  {
   "cell_type": "code",
   "execution_count": null,
   "id": "bcf48506",
   "metadata": {},
   "outputs": [],
   "source": []
  },
  {
   "cell_type": "code",
   "execution_count": null,
   "id": "9e230084-4a4b-442c-917a-61a2940d26f6",
   "metadata": {},
   "outputs": [],
   "source": []
  },
  {
   "cell_type": "code",
   "execution_count": null,
   "id": "50214e57-2b07-4a5e-9df4-44e8db742164",
   "metadata": {},
   "outputs": [],
   "source": [
    "\n",
    "\n"
   ]
  },
  {
   "cell_type": "code",
   "execution_count": null,
   "id": "45bb10fb",
   "metadata": {},
   "outputs": [],
   "source": []
  },
  {
   "cell_type": "code",
   "execution_count": null,
   "id": "f2218ec4",
   "metadata": {},
   "outputs": [],
   "source": []
  },
  {
   "cell_type": "code",
   "execution_count": 86,
   "id": "9dafac6a-bfae-454c-8613-dd0ac7c38c0b",
   "metadata": {},
   "outputs": [
    {
     "data": {
      "text/plain": [
       "['USA', 'USA', 'USA', 'USA', 'UK', 'UK', 'UK', 'USA', 'UK', 'UK']"
      ]
     },
     "execution_count": 86,
     "metadata": {},
     "output_type": "execute_result"
    }
   ],
   "source": [
    "unique_countries[:10]"
   ]
  },
  {
   "cell_type": "code",
   "execution_count": null,
   "id": "e5ae2c83-b0de-4b4d-a9ef-d07edb0f038a",
   "metadata": {},
   "outputs": [],
   "source": [
    "\n"
   ]
  },
  {
   "cell_type": "code",
   "execution_count": null,
   "id": "b0264959-e8f1-4655-8c52-7d6d354a66a3",
   "metadata": {},
   "outputs": [],
   "source": []
  },
  {
   "cell_type": "code",
   "execution_count": null,
   "id": "51bb6f5b-4d6f-4291-aafb-8528bb42beda",
   "metadata": {},
   "outputs": [],
   "source": []
  },
  {
   "cell_type": "code",
   "execution_count": null,
   "id": "bf47723c-591e-4766-ad79-235202c45f2e",
   "metadata": {},
   "outputs": [],
   "source": []
  },
  {
   "cell_type": "code",
   "execution_count": null,
   "id": "6de4de44",
   "metadata": {},
   "outputs": [],
   "source": []
  },
  {
   "cell_type": "code",
   "execution_count": null,
   "id": "d50ed371",
   "metadata": {},
   "outputs": [],
   "source": []
  },
  {
   "cell_type": "code",
   "execution_count": null,
   "id": "404b3c8a",
   "metadata": {},
   "outputs": [],
   "source": []
  },
  {
   "cell_type": "code",
   "execution_count": null,
   "id": "14ff75eb",
   "metadata": {},
   "outputs": [],
   "source": []
  }
 ],
 "metadata": {
  "kernelspec": {
   "display_name": "Python 3 (ipykernel)",
   "language": "python",
   "name": "python3"
  },
  "language_info": {
   "codemirror_mode": {
    "name": "ipython",
    "version": 3
   },
   "file_extension": ".py",
   "mimetype": "text/x-python",
   "name": "python",
   "nbconvert_exporter": "python",
   "pygments_lexer": "ipython3",
   "version": "3.9.7"
  }
 },
 "nbformat": 4,
 "nbformat_minor": 5
}
