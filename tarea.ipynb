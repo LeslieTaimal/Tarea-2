{
 "cells": [
  {
   "cell_type": "code",
   "execution_count": 2,
   "id": "3f3cc364-d2e9-4709-a3f7-7b5e5370e492",
   "metadata": {},
   "outputs": [],
   "source": [
    "import re\n",
    "import csv"
   ]
  },
  {
   "cell_type": "code",
   "execution_count": 98,
   "id": "7aee7c60-33f3-476d-a84a-cd41de92f033",
   "metadata": {
    "scrolled": true
   },
   "outputs": [],
   "source": [
    "with open(\"pubmed-vih.txt\", errors=\"ignore\") as l: \n",
    "    my_text = l.read()"
   ]
  },
  {
   "cell_type": "code",
   "execution_count": 99,
   "id": "bb546d8c-6dd6-4e24-85b7-09585bf7be76",
   "metadata": {},
   "outputs": [
    {
     "data": {
      "text/plain": [
       "66032"
      ]
     },
     "execution_count": 99,
     "metadata": {},
     "output_type": "execute_result"
    }
   ],
   "source": [
    "len(my_text)"
   ]
  },
  {
   "cell_type": "code",
   "execution_count": 100,
   "id": "06013610-a0a3-4f55-a047-69b7100de33d",
   "metadata": {},
   "outputs": [],
   "source": [
    "my_text = re.sub(r'\\n\\s{6}', ' ', my_text)"
   ]
  },
  {
   "cell_type": "code",
   "execution_count": 101,
   "id": "2f68d4e9",
   "metadata": {},
   "outputs": [
    {
     "name": "stdout",
     "output_type": "stream",
     "text": [
      "PMID- 27627120\n",
      "OWN - NLM\n",
      "STAT- MEDLINE\n",
      "DCOM- 20171031\n",
      "LR  - 20181113\n",
      "IS  - 1518-8345 (Electronic)\n",
      "IS  - 0104-1169 (Print)\n",
      "IS  - 0104-1169 (Linking)\n",
      "VI  - 24\n",
      "IP  - 0\n",
      "DP  - 2016 Sep 9\n",
      "TI  - Tuberculosis control in people living with HIV/AIDS.\n",
      "PG  - e2798\n",
      "LID - S0104-11692016000100410 [pii]\n",
      "LID - 10.1590/1518-8345.1187.2798 [doi]\n",
      "LID - e2798\n",
      "AB  - OBJECTIVE: to analyze the offering of health actions and services for the control of  tuberculosis for people living with HIV/AIDS being followed up in the Specialized  Care Services for HIV/AIDS in RibeirÃ£o Preto, SP, Brazil. METHOD: quantitative,  exploratory survey study. Participated 253 people living with HIV/AIDS followed up  by this service, considering as inclusion criteria: individuals older than 18 years  living in the city and not inmates. Data collection was conducted from January 2012  to May 2013 through interviews with the support of a specific instrument. Data were  analyzed using indicators and a composite index. RESULTS: the offering of services  for the control of tuberculosis in people living with HIV/AIDS by municipal services  was considered as intermediate, reinforcing the need for better planning for  comprehensive assistance, coordination of professionals in teams and among the  services network, in addition to professional training and continuing education.  CONCLUSION: it is necessary to implement strategies that promote shared actions  between TB and HIV / AIDS programs and between different services in order to  strengthen the local care network, aimed at producing an individualized care,  comprehensive and responsive. OBJETIVO: analisar a oferta das aÃ§Ãµes e serviÃ§os de  saÃºde para o controle da tuberculose nas pessoas vivendo com HIV/aids em seguimento  pelos ServiÃ§os de AtenÃ§Ã£o Especializada ao HIV/aids de RibeirÃ£o Preto, SP, Brasil.  MÃ‰TODO: estudo quantitativo, exploratÃ³rio, do tipo inquÃ©rito. Participaram 253  pessoas vivendo com HIV/aids em seguimento nos serviÃ§os, considerando \n"
     ]
    }
   ],
   "source": [
    "print(my_text[:2000])"
   ]
  },
  {
   "cell_type": "code",
   "execution_count": 102,
   "id": "7d6d47ae",
   "metadata": {},
   "outputs": [],
   "source": [
    " x = re.split('^AD+[\\D]+[.=$]', my_text)"
   ]
  },
  {
   "cell_type": "code",
   "execution_count": 103,
   "id": "29561b61",
   "metadata": {},
   "outputs": [
    {
     "name": "stdout",
     "output_type": "stream",
     "text": [
      "['PMID- 27627120\\nOWN - NLM\\nSTAT- MEDLINE\\nDCOM- 20171031\\nLR  - 20181113\\nIS  - 1518-8345 (Electronic)\\nIS  - 0104-1169 (Print)\\nIS  - 0104-1169 (Linking)\\nVI  - 24\\nIP  - 0\\nDP  - 2016 Sep 9\\nTI  - Tuberculosis control in people living with HIV/AIDS.\\nPG  - e2798\\nLID - S0104-11692016000100410 [pii]\\nLID - 10.1590/1518-8345.1187.2798 [doi]\\nLID - e2798\\nAB  - OBJECTIVE: to analyze the offering of health actions and services for the control of  tuberculosis for people living with HIV/AIDS being followed up in the Specialized  Care Services for HIV/AIDS in RibeirÃ£o Preto, SP, Brazil. METHOD: quantitative,  exploratory survey study. Participated 253 people living with HIV/AIDS followed up  by this service, considering as inclusion criteria: individuals older than 18 years  living in the city and not inmates. Data collection was conducted from January 2012  to May 2013 through interviews with the support of a specific instrument. Data were  analyzed using indicators and a composite index. RESULTS: the offering of services  for the control of tuberculosis in people living with HIV/AIDS by municipal services  was considered as intermediate, reinforcing the need for better planning for  comprehensive assistance, coordination of professionals in teams and among the  services network, in addition to professional training and continuing education.  CONCLUSION: it is necessary to implement strategies that promote shared actions  between TB and HIV / AIDS programs and between different services in order to  strengthen the local care network, aimed at producing an individualized care,  comprehensive and responsive. OBJETIVO: analisar a oferta das aÃ§Ãµes e serviÃ§os de  saÃºde para o controle da tuberculose nas pessoas vivendo com HIV/aids em seguimento  pelos ServiÃ§os de AtenÃ§Ã£o Especializada ao HIV/aids de RibeirÃ£o Preto, SP, Brasil.  MÃ‰TODO: estudo quantitativo, exploratÃ³rio, do tipo inquÃ©rito. Participaram 253  pessoas vivendo com HIV/aids em seguimento nos serviÃ§os, considerando os critÃ©rios  de inclusÃ£o: indivÃ\\xadduos maiores de 18 anos, residentes no municÃ\\xadpio e nÃ£o  pertencentes ao sistema prisional. A coleta de dados foi realizada no perÃ\\xadodo de  janeiro/2012 a maio/2013, por meio de entrevistas com apoio de um instrumento  especÃ\\xadfico. Os dados foram analisados mediante indicadores e Ã\\xadndice composto.  RESULTADOS: a oferta de aÃ§Ãµes e serviÃ§os para o controle da tuberculose nas pessoas  vivendo com HIV/aids pelos serviÃ§os do municÃ\\xadpio foi considerada regular, reforÃ§ando  a necessidade de melhor planejamento da assistÃªncia de forma integral, articulaÃ§Ã£o  dos profissionais nas equipes e entre os serviÃ§os da rede, alÃ©m da formaÃ§Ã£o  profissional e educaÃ§Ã£o permanente. CONCLUSÃƒO: faz-se necessÃ¡rio a implementaÃ§Ã£o de  estratÃ©gias que favoreÃ§am aÃ§Ãµes compartilhadas entre os programas de tuberculose e  HIV/aids e entre os diferentes serviÃ§os, com o intuito de fortalecer a rede local de  atenÃ§Ã£o objetivando a produÃ§Ã£o de um cuidado singular, integral e resolutivo.  OBJETIVO: analizar la oferta de acciones y servicios de salud para el control de la  tuberculosis en las personas viviendo con VIH-SIDA acompaÃ±adas por los Servicios de  AtenciÃ³n Especializada al VIH-SIDA de Ribeirao Preto, SP, Brasil. MÃ‰TODO: estudio  cuantitativo, exploratorio, de tipo encuesta. Participaron 253 personas viviendo con  VIH-SIDA seguidas por estos servicios, considerando como criterios de inclusiÃ³n:  individuos mayores de 18 aÃ±os, residentes en el municipio y no ser del sistema de  prisiones. La recolecciÃ³n de datos fue realizada en el periodo de enero de 2012 a  mayo de 2013, por medio de entrevistas guiadas por un instrumento especifico. Los  datos fueron analizados mediante indicadores y un Ã\\xadndice compuesto. RESULTADOS: la  oferta de acciones y servicios para el control de la tuberculosis en personas  viviendo con VIH-SIDA fue considerada intermedia, reforzando la necesidad de mejorar  la planificaciÃ³n de la asistencia en forma integral, la articulaciÃ³n de los  profesionales en los equipos y entre los servicios de la red, ademÃ¡s de la formaciÃ³n  profesional y la educaciÃ³n permanente. CONCLUSIÃ“N: se hace necesaria la  implementaciÃ³n de estrategias que favorezcan las acciones compartidas entre los  programas de tuberculosis y VIH-SIDA y entre los diferentes servicios, con el fin de  fortalecer la red local de atenciÃ³n para producir un cuidado personalizado, integral  y resolutivo.\\nFAU - Magnabosco, Gabriela Tavares\\nAU  - Magnabosco GT\\nAD  - PhD, Post-doctoral fellow, Escola de Enfermagem de RibeirÃ£o Preto, Universidade de  SÃ£o Paulo, PAHO/WHO Collaborating Centre for Nursing Research Development, RibeirÃ£o  Preto, SP, Brazil.\\nFAU - Lopes, LÃ\\xadvia Maria\\nAU  - Lopes LM\\nAD  - MSc, Doctoral student, Escola de Enfermagem de RibeirÃ£o Preto, Universidade de SÃ£o  Paulo, PAHO/WHO Collaborating Centre for Nursing Research Development, RibeirÃ£o  Preto, SP, Brazil.\\nFAU - Andrade, Rubia Laine de Paula\\nAU  - Andrade RL\\nAD  - PhD, RN, Escola de Enfermagem de RibeirÃ£o Preto, Universidade de SÃ£o Paulo, PAHO/WHO  Collaborating Centre for Nursing Research Development, RibeirÃ£o Preto, SP, Brazil.\\nFAU - Brunello, Maria EugÃªnia Firmino\\nAU  - Brunello ME\\nAD  - PhD, Professor, Escola de Enfermagem de RibeirÃ£o Preto, Universidade de SÃ£o Paulo,  PAHO/WHO Collaborating Centre for Nursing Research Development, RibeirÃ£o Preto, SP,  Brazil.\\nFAU - Monroe, Aline Aparecida\\nAU  - Monroe AA\\nAD  - PhD, Professor, Escola de Enfermagem de RibeirÃ£o Preto, Universidade de SÃ£o Paulo,  PAHO/WHO Collaborating Centre for Nursing Research Development, RibeirÃ£o Preto, SP,  Brazil.\\nFAU - Villa, Tereza Cristina Scatena\\nAU  - Villa TC\\nAD  - PhD, Full Professor, Escola de Enfermagem de RibeirÃ£o Preto, Universidade de SÃ£o  Paulo, PAHO/WHO Collaborating Centre for Nursing Research Development, RibeirÃ£o  Preto, SP, Brazil.\\nLA  - eng\\nLA  - por\\nLA  - spa\\nPT  - Journal Article\\nDEP - 20160909\\nTA  - Rev Lat Am Enfermagem\\nJT  - Revista latino-americana de enfermagem\\nJID - 9420934\\nMH  - Acquired Immunodeficiency Syndrome/complications\\nMH  - Adult\\nMH  - Brazil\\nMH  - HIV Infections/*complications\\nMH  - Humans\\nMH  - Tuberculosis/*complications/*prevention & control\\nPMC - PMC5048724\\nEDAT- 2016/09/15 06:00\\nMHDA- 2017/11/01 06:00\\nCRDT- 2016/09/15 06:00\\nPHST- 2015/07/30 00:00 [received]\\nPHST- 2016/03/15 00:00 [accepted]\\nPHST- 2016/09/15 06:00 [entrez]\\nPHST- 2016/09/15 06:00 [pubmed]\\nPHST- 2017/11/01 06:00 [medline]\\nAID - S0104-11692016000100410 [pii]\\nAID - 10.1590/1518-8345.1187.2798 [doi]\\nPST - epublish\\nSO  - Rev Lat Am Enfermagem. 2016 Sep 9;24(0):e2798. doi: 10.1590/1518-8345.1187.2798.\\n\\nPMID- 31093179\\nOWN - NLM\\nSTAT- PubMed-not-MEDLINE\\nLR  - 20200225\\nIS  - 1680-5348 (Electronic)\\nIS  - 1020-4989 (Print)\\nIS  - 1020-4989 (Linking)\\nVI  - 42\\nDP  - 2018\\nTI  - [HIV/Aids management at the primary care level in Brazil: a challenge for the  Unified Health System?Cuidados de pacientes VIH / SIDA y atenciÃ³n primaria en  Brasil: desafÃ\\xados para la atenciÃ³n en el Sistema Ãšnico de Salud?].\\nPG  - e151\\nLID - 10.26633/RPSP.2018.151 [doi]\\nLID - e151\\nAB  - In Brazil, the Unified Health System (SUS) entails the establishment of hierarchical  and regionalized networks coordinated from the primary health care (PHC) level,  which is also the entry point into the system. Recently, as a result of new  guidelines and experiences in Brazil, PCH has been assigned a more substantial role  in the care and management of people living with HIV/Aids, tasks traditionally  performed at specialized clinics. The present article contextualizes and  problematizes this recent process of decentralized care to people living the  HIV/Aids in the context of the SUS. Since 2011, new diagnostic technologies (such as  rapid testing)) have been become available at PHC units in Brazil, expanding access  to testing and promoting an increase in the number of HIV diagnoses performed at the  PHC level. Since 2013, new guidelines and recommendations have also supported the  management of people with HIV/Aids in PHC units. The present article examines the  relationship between PHC and specialized care, issues of access, stigma, and  confidentiality within PHC, and the mode of organization and functioning of family  health teams, especially the formal link between residents in catchment areas and  health teams and workers. In conclusion, many challenges - moral, ethical,  technical, organizational, and political - have to be faced in order to increase  access and quality of care in the context of PHC for people living with HIV/Aids in  Brazil.\\nFAU - Melo, Eduardo Alves\\nAU  - Melo EA\\nAD  - FundaÃ§Ã£o Oswaldo Cruz, Escola Nacional de SaÃºde PÃºblica (ENSP), Rio de Janeiro (RJ),  Brasil.\\nFAU - Maksud, Ivia\\nAU  - Maksud I\\nAD  - FundaÃ§Ã£o Oswaldo Cruz, Instituto Fernandes Figueira, Rio de Janeiro (RJ), Brasil.\\nFAU - Agostini, Rafael\\nAU  - Agostini R\\nAD  - FundaÃ§Ã£o Oswaldo Cruz, Instituto Fernandes Figueira, Rio de Janeiro (RJ), Brasil.\\nLA  - por\\nPT  - English Abstract\\nPT  - Journal Article\\nTT  - Cuidado, HIV/Aids e atenÃ§Ã£o primÃ¡ria no Brasil: desafio para a atenÃ§Ã£o no Sistema  Ãšnico de SaÃºde?\\nDEP - 20181127\\nTA  - Rev Panam Salud Publica\\nJT  - Revista panamericana de salud publica = Pan American journal of public health\\nJID - 9705400\\nPMC - PMC6386111\\nOAB - Publisher: Abstract available from the publisher.\\nOABL- por\\nOTO - NOTNLM\\nOT  - Brazil\\nOT  - Primary health care\\nOT  - acquired immunodeficiency syndrome\\nOT  - comprehensive health care\\nCOIS- Conflitos de interesse. Nada declarado pelos autores.\\nEDAT- 2019/05/17 06:00\\nMHDA- 2019/05/17 06:01\\nCRDT- 2019/05/17 06:00\\nPHST- 2017/12/24 00:00 [received]\\nPHST- 2018/08/13 00:00 [accepted]\\nPHST- 2019/05/17 06:00 [entrez]\\nPHST- 2019/05/17 06:00 [pubmed]\\nPHST- 2019/05/17 06:01 [medline]\\nAID - RPSP.2018.151 [pii]\\nAID - 10.26633/RPSP.2018.151 [doi]\\nPST - epublish\\nSO  - Rev Panam Salud Publica. 2018 Nov 27;42:e151. doi: 10.26633/RPSP.2018.151.  eCollection 2018.\\n\\nPMID- 34152663\\nOWN - NLM\\nSTAT- MEDLINE\\nDCOM- 20211015\\nLR  - 20211015\\nIS  - 1758-2652 (Electronic)\\nIS  - 1758-2652 (Linking)\\nVI  - 24\\nIP  - 6\\nDP  - 2021 Jun\\nTI  - Trends in demographic and clinical characteristics and initiation of antiretroviral  therapy among adult patients enrolling in HIV care in the Central Africa  International epidemiology Database to Evaluate AIDS (CA-IeDEA) 2004 to 2018.\\nPG  - e25672\\nLID - 10.1002/jia2.25672 [doi]\\nLID - e25672\\nAB  - INTRODUCTION: The Central Africa International epidemiology Database to Evaluate  AIDS (CA-IeDEA) is an open observational cohort study investigating impact,  progression and long-term outcomes of HIV/AIDS among people living with HIV (PLWH)  in Burundi, Cameroon, Democratic Republic of Congo (DRC), Republic of Congo (ROC)  and Rwanda. We describe trends in demographic, clinical and immunological  characteristics as well as antiretroviral therapy (ART) use of patients  agedÂ\\xa0>Â\\xa015Â\\xa0years entering into HIV care in the participating CA-IeDEA site. METHODS:  Information on sociodemographic characteristics, height, weight, body mass index  (BMI), CD4 cell count, WHO staging and ART status at entry into care from 2004  through 2018 were extracted from clinic records of patients agedÂ\\xa0>Â\\xa015Â\\xa0years  enrolling in HIV care at participating clinics in Burundi, Cameroon, DRC, ROC and  Rwanda. We assessed trends in patient characteristics at enrolment in HIV care  including ART initiation within the first 30Â\\xa0days after enrolment in care and  calculated proportions, means and medians (interquartile ranges) for the main  variables of interest. RESULTS: Among 69,176 patients in the CA-IeDEA cohort, 39%  were from Rwanda, 24% from ROC, 18% from Cameroon, 14% from Burundi and 5% from DRC.  More women (66%) than men enrolled in care and subsequently initiated ART. Women  were also younger than men (32 vs. 38Â\\xa0years, PÂ\\xa0<Â\\xa00.001) at enrolment and at ART  initiation. Trends over time show increases in median CD4 cell count at enrolment  from 190 cells/ÂµL in 2004 to 334 cells/ÂµL in 2018 at enrolment. Among those with  complete data on CD4 counts (60%), women had a higher median CD4 cell count at care  entry than men (229 vs. 249 cells/ÂµL, PÂ\\xa0<Â\\xa00.001). Trends in the proportion of  patients using ART within 30Â\\xa0days of enrolment at the participating site show an  increase from 16% in 2004 to 75% in 2018. CONCLUSIONS: Trends from 2004 to 2018 in  the characteristics of patients participating in the CA-IeDEA cohort highlight  improvements at entry into care and subsequent ART initiation including after the  implementation of Treat All guidelines in the participating sites.\\nCI  - Â© 2021 The Authors. Journal of the International AIDS Society published by John  Wiley & Sons Ltd on behalf of the International AIDS Society.\\nFAU - Adedimeji, Adebola A\\nAU  - Adedimeji AA\\nAUID- ORCID: 0000-0002-8012-9124\\nAD  - Department of Epidemiology and Population Health, Albert Einstein College of  Medicine/Montefiore Medical Center, Bronx, NY, USA.\\nFAU - Hoover, Donald R\\nAU  - Hoover DR\\nAD  - Department of Statistics, Rutgers University, Piscataway, NJ, USA.\\nFAU - Shi, Qiuhu\\nAU  - Shi Q\\nAD  - Department of Public Health, School of Health Sciences and Practice, New York  Medical College, Valhalla, NY, USA.\\nFAU - Kim, Hae-Young\\nAU  - Kim HY\\nAD  - Department of Public Health, School of Health Sciences and Practice, New York  Medical College, Valhalla, NY, USA.\\nFAU - Brazier, Ellen\\nAU  - Brazier E\\nAUID- ORCID: 0000-0002-8514-1958\\nAD  - School of Public Health, City University of New York, New York, NY, USA.\\nFAU - Ross, Jonathan\\nAU  - Ross J\\nAUID- ORCID: 0000-0001-6126-3048\\nAD  - Department of Medicine, Albert Einstein College of Medicine, Bronx, NY, USA.\\nFAU - Murenzi, Gad\\nAU  - Murenzi G\\nAD  - Division of Clinical Education, Rwanda Military Hospital, Kanombe, Kigali, Rwanda.\\nFAU - Twizere, Christella\\nAU  - Twizere C\\nAUID- ORCID: 0000-0003-1102-5564\\nAD  - Centre National de Reference en MatiÃ¨re de VIH/SIDA, Bujumbura, Burundi.\\nFAU - Lelo, Patricia\\nAU  - Lelo P\\nAD  - Pediatric Hospital Kalembe Lembe, Kinshasa, Democratic Republic of Congo.\\nFAU - Nsonde, Dominique\\nAU  - Nsonde D\\nAD  - CTA Brazzaville, Brazzaville, Republic of Congo.\\nFAU - Ajeh, Rogers\\nAU  - Ajeh R\\nAD  - Clinical Research Education, Networking and Consultancy, Yaounde, Cameroon.\\nFAU - Dzudie, Anastase\\nAU  - Dzudie A\\nAD  - Clinical Research Education, Networking and Consultancy, Yaounde, Cameroon.\\nFAU - Nash, Denis\\nAU  - Nash D\\nAD  - School of Public Health, City University of New York, New York, NY, USA.\\nFAU - Yotebieng, Marcel\\nAU  - Yotebieng M\\nAD  - Department of Medicine, Albert Einstein College of Medicine, Bronx, NY, USA.\\nFAU - Anastos, Kathryn\\nAU  - Anastos K\\nAD  - Department of Epidemiology and Population Health, Albert Einstein College of  Medicine/Montefiore Medical Center, Bronx, NY, USA.\\nAD  - Department of Medicine, Albert Einstein College of Medicine, Bronx, NY, USA.\\nCN  - Central Africa IeDEA Consortium\\nLA  - eng\\nGR  - U01 AI096299/AI/NIAID NIH HHS/United States\\nPT  - Journal Article\\nPT  - Observational Study\\nPT  - Research Support, N.I.H., Extramural\\nTA  - J Int AIDS Soc\\nJT  - Journal of the International AIDS Society\\nJID - 101478566\\nRN  - 0 (Anti-HIV Agents)\\nSB  - IM\\nMH  - *Acquired Immunodeficiency Syndrome/drug therapy\\nMH  - Adult\\nMH  - Africa, Central/epidemiology\\nMH  - Aged\\nMH  - *Anti-HIV Agents/therapeutic use\\nMH  - CD4 Lymphocyte Count\\nMH  - Demography\\nMH  - Female\\nMH  - *HIV Infections/drug therapy/epidemiology\\nMH  - Humans\\nMH  - Male\\nPMC - PMC8216247\\nOTO - NOTNLM\\nOT  - *ARV\\nOT  - *Africa\\nOT  - *HIV care continuum\\nOT  - *HIV epidemiology\\nOT  - *cohort studies\\nOT  - *low- and middle-income countries\\nFIR - PÃ©lagie, Nimbona\\nIR  - PÃ©lagie N\\nFIR - Gateretse, Patrick\\nIR  - Gateretse P\\nFIR - Munezero, Jeanine\\nIR  - Munezero J\\nFIR - Nitereka, Valentin\\nIR  - Nitereka V\\nFIR - Niyongabo, ThÃ©odore\\nIR  - Niyongabo T\\nFIR - Twizere, Christelle\\nIR  - Twizere C\\nFIR - Bukuru, HÃ©lÃ¨ne\\nIR  - Bukuru H\\nFIR - Nahimana, Thierry\\nIR  - Nahimana T\\nFIR - Baransaka, ElysÃ©e\\nIR  - Baransaka E\\nFIR - Barasukana, Patrice\\nIR  - Barasukana P\\nFIR - Kabanda, Eugene\\nIR  - Kabanda E\\nFIR - Manirakiza, Martin\\nIR  - Manirakiza M\\nFIR - Ndikumwenayo, FranÃ§ois\\nIR  - Ndikumwenayo F\\nFIR - Biziragusenyuka, JÃ©rÃ©mie\\nIR  - Biziragusenyuka J\\nFIR - Munezero, Ange Marie Michelline\\nIR  - Munezero AMM\\nFIR - Mbuh, Tabeyang\\nIR  - Mbuh T\\nFIR - Njie, Kinge Thompson\\nIR  - Njie KT\\nFIR - Tchassem, Edmond\\nIR  - Tchassem E\\nFIR - Tsi, Kien-Atsu\\nIR  - Tsi KA\\nFIR - Benwi, Mark\\nIR  - Benwi M\\nFIR - Ngamani, Marc Lionel\\nIR  - Ngamani ML\\nFIR - Nkome, Victorine\\nIR  - Nkome V\\nFIR - Sandjong, Falone\\nIR  - Sandjong F\\nFIR - Mbuh, Akindeh\\nIR  - Mbuh A\\nFIR - Amadou, Djenabou\\nIR  - Amadou D\\nFIR - Balkissou, Amadou Dodo\\nIR  - Balkissou AD\\nFIR - Ngassam, Eric\\nIR  - Ngassam E\\nFIR - Yone, Eric Walter Pefura\\nIR  - Yone EWP\\nFIR - Ewanoge, Alice Ndelle\\nIR  - Ewanoge AN\\nFIR - Fuhngwa, Norbert\\nIR  - Fuhngwa N\\nFIR - Kendowo, Ernestine\\nIR  - Kendowo E\\nFIR - Moki, Chris\\nIR  - Moki C\\nFIR - Nforniwe, Denis Nsame\\nIR  - Nforniwe DN\\nFIR - Akele, Catherine\\nIR  - Akele C\\nFIR - Kitetele, Faustin\\nIR  - Kitetele F\\nFIR - Tabala, Martine\\nIR  - Tabala M\\nFIR - Okitolonda, Emile Wemakoy\\nIR  - Okitolonda EW\\nFIR - Ekembe, Cherubin\\nIR  - Ekembe C\\nFIR - Diafouka, Merlin\\nIR  - Diafouka M\\nFIR - Ekat, Martin Herbas\\nIR  - Ekat MH\\nFIR - Mafou, Adolphe\\nIR  - Mafou A\\nFIR - Ayinkamiye, Nicole\\nIR  - Ayinkamiye N\\nFIR - Igirimbabazi, Jules\\nIR  - Igirimbabazi J\\nFIR - Ndamijimana, Emmanuel\\nIR  - Ndamijimana E\\nFIR - Habarurema, Emmanuel\\nIR  - Habarurema E\\nFIR - Nyiraneza, Marie Luise\\nIR  - Nyiraneza ML\\nFIR - Mukamusana, Dorothee\\nIR  - Mukamusana D\\nFIR - Tuyisenge, Liliane\\nIR  - Tuyisenge L\\nFIR - Kankindi, Catherine\\nIR  - Kankindi C\\nFIR - Shyaka, Christian\\nIR  - Shyaka C\\nFIR - Ingabire, Marie Grace\\nIR  - Ingabire MG\\nFIR - Uwakijijwe, Bonheur\\nIR  - Uwakijijwe B\\nFIR - Ndumuhire, Jules\\nIR  - Ndumuhire J\\nFIR - Nyirabahutu, Marie Goretti\\nIR  - Nyirabahutu MG\\nFIR - Ndoli, Yvette\\nIR  - Ndoli Y\\nFIR - Uwamahoro, Oliver\\nIR  - Uwamahoro O\\nFIR - Muhayimpundu, Ribakare\\nIR  - Muhayimpundu R\\nFIR - Nsanzimana, Sabin\\nIR  - Nsanzimana S\\nFIR - Remera, Eric\\nIR  - Remera E\\nFIR - Umumararungu, Esperance\\nIR  - Umumararungu E\\nFIR - Busingye, Lydia\\nIR  - Busingye L\\nFIR - Butera, Alex M\\nIR  - Butera AM\\nFIR - Gasana, Josephine\\nIR  - Gasana J\\nFIR - Habiryayo, Thierry\\nIR  - Habiryayo T\\nFIR - Ingabire, Charles\\nIR  - Ingabire C\\nFIR - Kabahizi, Jules\\nIR  - Kabahizi J\\nFIR - Kagimbana, Jean Chrysostome\\nIR  - Kagimbana JC\\nFIR - Kanyabwisha, Faustin\\nIR  - Kanyabwisha F\\nFIR - Kubwimana, Gallican\\nIR  - Kubwimana G\\nFIR - Muhoza, Benjamin\\nIR  - Muhoza B\\nFIR - Munyaneza, Athanase\\nIR  - Munyaneza A\\nFIR - Musabyimana, Francoise\\nIR  - Musabyimana F\\nFIR - Mwiza, Francine\\nIR  - Mwiza F\\nFIR - Rwibasira, Gallican Nshogoza\\nIR  - Rwibasira GN\\nFIR - Sinayobye, Jean d\\'Amour\\nIR  - Sinayobye JD\\nFIR - Tuyisenge, Patrick\\nIR  - Tuyisenge P\\nFIR - Benekigeri, Chantal\\nIR  - Benekigeri C\\nFIR - Musaninyange, Jacqueline\\nIR  - Musaninyange J\\nFIR - Adedimeji, Adebola\\nIR  - Adedimeji A\\nFIR - Dilorenzo, Madeline\\nIR  - Dilorenzo M\\nFIR - Murchison, Lynn\\nIR  - Murchison L\\nFIR - Addison, Diane\\nIR  - Addison D\\nFIR - Jones, Heidi\\nIR  - Jones H\\nFIR - Kelvin, Elizabeth\\nIR  - Kelvin E\\nFIR - Kulkarni, Sarah\\nIR  - Kulkarni S\\nFIR - Romo, Matthew\\nIR  - Romo M\\nFIR - Tymejczyk, Olga\\nIR  - Tymejczyk O\\nFIR - Elul, Batya\\nIR  - Elul B\\nFIR - Cai, Xiatao\\nIR  - Cai X\\nFIR - Dong, Allan\\nIR  - Dong A\\nFIR - Hoover, Don\\nIR  - Hoover D\\nFIR - Li, Chunshan\\nIR  - Li C\\nFIR - Shi, Qiuhu\\nIR  - Shi Q\\nFIR - Agler, Robert\\nIR  - Agler R\\nFIR - Lancaster, Kathryn\\nIR  - Lancaster K\\nFIR - Kuniholm, Mark\\nIR  - Kuniholm M\\nFIR - Edmonds, Andrew\\nIR  - Edmonds A\\nFIR - Parcesepe, Angela\\nIR  - Parcesepe A\\nFIR - Edwards, Jess\\nIR  - Edwards J\\nFIR - Keiser, Olivia\\nIR  - Keiser O\\nFIR - Duda, Stephany\\nIR  - Duda S\\nFIR - Kimmel, April\\nIR  - Kimmel A\\nEDAT- 2021/06/22 06:00\\nMHDA- 2021/10/16 06:00\\nCRDT- 2021/06/21 12:33\\nPHST- 2020/11/17 00:00 [revised]\\nPHST- 2020/06/25 00:00 [received]\\nPHST- 2021/01/27 00:00 [accepted]\\nPHST- 2021/06/21 12:33 [entrez]\\nPHST- 2021/06/22 06:00 [pubmed]\\nPHST- 2021/10/16 06:00 [medline]\\nAID - JIA225672 [pii]\\nAID - 10.1002/jia2.25672 [doi]\\nPST - ppublish\\nSO  - J Int AIDS Soc. 2021 Jun;24(6):e25672. doi: 10.1002/jia2.25672.\\n\\nPMID- 29165512\\nOWN - NLM\\nSTAT- MEDLINE\\nDCOM- 20180131\\nLR  - 20180131\\nIS  - 0717-6341 (Electronic)\\nIS  - 0716-1018 (Linking)\\nVI  - 34\\nIP  - 4\\nDP  - 2017 Aug\\nTI  - [Antiretroviral treatment adherence for HIV/AIDS in women: a sociocultural  perspective].\\nPG  - 352-358\\nLID - S0716-10182017000400352 [pii]\\nLID - 10.4067/s0716-10182017000400352 [doi]\\nAB  - BACKGROUND: Adequate adherence to HAART has a high impact on survival of AIDA  patients. There is little consensus on the causes of low adherence to treatment in  women, who are in a situation of inequality in terms of prevention and related care.  OBJECTIVES: To explore and describe the socio-cultural aspects related to the  adherence of women to antiretroviral treatment for HIV / AIDS. MATERIAL AND METHODS:  Qualitative, exploratory-descriptive study. The study population was focused on  Chilean women, who are 18 years of age or older, living with HIV/AIDS. The sample  size was defined by information saturation. In-depth interviews were conducted with  16 women contacted in seven public care centers for people living with HIV (PLHIV)  in 4 regions of the country, and it was take into account the saturation of the  information. RESULTS: There are several sociocultural factors that determine the  level of adherence that women adopt in relation to HAART. The most relevant ones are  the vital satisfaction, the imaginary about HIV, the availability of their networks  in front of diagnosis and the availability of information are fundamental.  DISCUSSION: It is necessary to enter into specific interventions considering the  sociocultural aspects and satisfying the psychosocial needs of women. It is  imperative that public policies and health teams consider these aspects to improve  adherence to HAART.\\nFAU - Belmar, Julieta\\nAU  - Belmar J\\nAD  - Escuela de Salud PÃºblica, Facultad de Medicina, Universidad de Chile, Chile.\\nFAU - Stuardo, Valeria\\nAU  - Stuardo V\\nAD  - Escuela de Salud PÃºblica, Facultad de Medicina, Universidad de Chile, Chile.\\nLA  - spa\\nPT  - Journal Article\\nTT  - Adherencia al tratamiento anti-retroviral para el VIH/SIDA en mujeres: una mirada  socio-cultural.\\nPL  - Chile\\nTA  - Rev Chilena Infectol\\nJT  - Revista chilena de infectologia : organo oficial de la Sociedad Chilena de  Infectologia\\nJID - 9305754\\nRN  - 0 (Anti-HIV Agents)\\nSB  - IM\\nMH  - Adult\\nMH  - Anti-HIV Agents/*therapeutic use\\nMH  - Chile\\nMH  - *Cultural Characteristics\\nMH  - Female\\nMH  - HIV Infections/*drug therapy\\nMH  - Humans\\nMH  - Medication Adherence/psychology/*statistics & numerical data\\nMH  - Qualitative Research\\nMH  - Sex Factors\\nMH  - Socioeconomic Factors\\nEDAT- 2017/11/23 06:00\\nMHDA- 2018/02/01 06:00\\nCRDT- 2017/11/23 06:00\\nPHST- 2016/12/05 00:00 [received]\\nPHST- 2017/07/11 00:00 [accepted]\\nPHST- 2017/11/23 06:00 [entrez]\\nPHST- 2017/11/23 06:00 [pubmed]\\nPHST- 2018/02/01 06:00 [medline]\\nAID - S0716-10182017000400352 [pii]\\nAID - 10.4067/s0716-10182017000400352 [doi]\\nPST - ppublish\\nSO  - Rev Chilena Infectol. 2017 Aug;34(4):352-358. doi: 10.4067/s0716-10182017000400352.\\n\\nPMID- 26821952\\nOWN - NLM\\nSTAT- MEDLINE\\nDCOM- 20161104\\nLR  - 20181113\\nIS  - 1813-4424 (Electronic)\\nIS  - 1729-0376 (Print)\\nIS  - 1729-0376 (Linking)\\nVI  - 13\\nIP  - 1\\nDP  - 2016\\nTI  - Weak signal detection: A discrete window of opportunity for achieving \\'Vision  90:90:90\\'?\\nPG  - 17-34\\nLID - 10.1080/17290376.2015.1123642 [doi]\\nAB  - INTRODUCTION: UNAIDS\\' Vision 90:90:90 is a call to \\'end AIDS\\'. Developing predictive  foresight of the unpredictable changes that this journey will entail could  contribute to the ambition of \\'ending AIDS\\'. There are few opportunities for  managing unpredictable changes. We introduce \\'weak signal detection\\' as a potential  opportunity to fill this void. METHOD: Combining futures and complexity theory, we  reflect on two pilot case studies that involved the Archetype Extraction technique  and the SenseMaker(Â®) Collector(â„¢) tool. RESULTS: Both the piloted techniques have  the potentials to surface weak signals--but there is room for improvement.  DISCUSSION: A management response to a complex weak signal requires pattern  management, rather than an exclusive focus on behaviour management. CONCLUSION: Weak  signal detection is a window of opportunity to improve resilience to unpredictable  changes in the HIV/AIDS landscape that can both reduce the risk that emerges from  the changes and increase the visibility of opportunities to exploit the  unpredictable changes that could contribute to \\'ending AIDS\\'.\\nFAU - Burman, Christopher J\\nAU  - Burman CJ\\nAD  - a PhD, is affiliated to Rural Development and Innovation Hub , University of Limpopo  , Turfloop Campus, Polokwane , South Africa.\\nFAU - Aphane, Marota\\nAU  - Aphane M\\nAD  - b Masters in Development, is affiliated to Rural Development and Innovation Hub ,  University of Limpopo , Turfloop Campus, Polokwane , South Africa.\\nFAU - Delobelle, Peter\\nAU  - Delobelle P\\nAD  - c MD, PhD is affiliated to School of Public Health , University of the Western Cape  , Robert Sobukwe Road, Belville , Cape Town 7535 , South Africa.\\nLA  - eng\\nPT  - Journal Article\\nPT  - Research Support, Non-U.S. Gov\\'t\\nTA  - SAHARA J\\nJT  - SAHARA J : journal of Social Aspects of HIV/AIDS Research Alliance\\nJID - 101226212\\nSB  - IM\\nMH  - Community Health Services/*organization & administration\\nMH  - *Community Networks/organization & administration\\nMH  - Evidence-Based Practice\\nMH  - HIV Infections/*prevention & control\\nMH  - Health Promotion/*organization & administration\\nMH  - Humans\\nMH  - Models, Theoretical\\nMH  - Organizational Innovation\\nMH  - Pilot Projects\\nMH  - South Africa/epidemiology\\nPMC - PMC5642432\\nOAB - Publisher: Abstract available from the publisher.\\nOABL- fre\\nOTO - NOTNLM\\nOT  - Cynefin framework\\nOT  - HIV/AIDS\\nOT  - VIH/SIDA\\nOT  - autopoiesis\\nOT  - complexity theory\\nOT  - futures science\\nOT  - sciences des futures\\nOT  - thÃ©orie de la complexitÃ©\\nEDAT- 2016/01/30 06:00\\nMHDA- 2016/11/05 06:00\\nCRDT- 2016/01/30 06:00\\nPHST- 2016/01/30 06:00 [entrez]\\nPHST- 2016/01/30 06:00 [pubmed]\\nPHST- 2016/11/05 06:00 [medline]\\nAID - 1123642 [pii]\\nAID - 10.1080/17290376.2015.1123642 [doi]\\nPST - ppublish\\nSO  - SAHARA J. 2016;13(1):17-34. doi: 10.1080/17290376.2015.1123642.\\n\\nPMID- 25707605\\nOWN - NLM\\nSTAT- MEDLINE\\nDCOM- 20170213\\nLR  - 20170213\\nIS  - 1578-1283 (Electronic)\\nIS  - 0213-9111 (Linking)\\nVI  - 29\\nIP  - 3\\nDP  - 2015 May-Jun\\nTI  - Use of new technologies to notify possible contagion of sexually-transmitted  infections among men.\\nPG  - 190-7\\nLID - S0213-9111(15)00006-0 [pii]\\nLID - 10.1016/j.gaceta.2015.01.003 [doi]\\nAB  - BACKGROUND: Among men who have sex with men (MSM), the association between searching  for sexual partners\\' on the Internet and increased risk of sexually transmitted  infections (STIs)/HIV infection, together with current low levels of partner  notification (PN), justifies a study to explore the intention to use new  communication technologies for PN in Spain. METHODS: Two cross-sectional surveys  were performed: the first was administered online to visitors to web pages where the  survey was advertised; the second was administered on paper to patients attending an  STI Unit and centres similar to Community-Based Voluntary Counselling and Testing  centres. RESULTS: The study population comprised 1578 Spanish residents (median age,  34 years [range: 18 to 74]); 84% lived in urban areas, and 69% reported searching  for sexual partners on the Internet. Thirty-seven per cent would be willing to use a  website for PN, 26% did not know if they would use one, and 37% would not want to  use one. The main reasons for not intending to notify STI/HIV were \"shame or fear\"  (stable partner) and \"not knowing how to contact them\" (casual partner). The  preferred method of notification was face to face (73%) for both stable and casual  partners, although using new technologies (Short Messaging System, e-mail, web page,  phone applications) was widely accepted for notifying casual partners. CONCLUSIONS:  Fighting stigma and promoting alternative methods of PN among MSM and health  professionals through new technologies could increase the frequency of PN. This  approach will improve early detection and reduce transmission in Spain.\\nCI  - Copyright Â© 2014 SESPAS. Published by Elsevier Espana. All rights reserved.\\nFAU - Carnicer-Pont, Dolors\\nAU  - Carnicer-Pont D\\nAD  - Centre of Epidemiological Studies of HIV/AIDS and STI of Catalonia (CEEISCAT)  Catalan Institut of Oncology (ICO) -Public Health Agency of Catalonia (ASPCAT),  Spain; Department of Paediatrics, Obstetrics and Gynaecology of the Autonomous  University of Barcelona (UAB), Bellaterra, Spain; CIBER, Epidemiology and Public  Health (CIBERESP), Spain. Electronic address: dcarnice@gmail.com.\\nFAU - Barbera-Gracia, MarÃ\\xada JesÃºs\\nAU  - Barbera-Gracia MJ\\nAD  - STI Unit, Special Programme Infectious Diseases Vall d\\'Hebron-Drassanes University  Hospital Vall d\\'HebrÃ³n, Barcelona, Spain.\\nFAU - FernÃ¡ndez-DÃ¡vila, Percy\\nAU  - FernÃ¡ndez-DÃ¡vila P\\nAD  - Centre of Epidemiological Studies of HIV/AIDS and STI of Catalonia (CEEISCAT)  Catalan Institut of Oncology (ICO) -Public Health Agency of Catalonia (ASPCAT),  Spain; Stop Sida, Barcelona, Spain.\\nFAU - GarcÃ\\xada de Olalla, Patricia\\nAU  - GarcÃ\\xada de Olalla P\\nAD  - AgÃ¨ncia de Salut PÃºblica de Barcelona (ASPB), Spain; CIBER, Epidemiology and Public  Health (CIBERESP), Spain.\\nFAU - MuÃ±oz, Rafael\\nAU  - MuÃ±oz R\\nAD  - Centre of Epidemiological Studies of HIV/AIDS and STI of Catalonia (CEEISCAT)  Catalan Institut of Oncology (ICO) -Public Health Agency of Catalonia (ASPCAT),  Spain; Stop Sida, Barcelona, Spain.\\nFAU - Jacques-AviÃ±Ã³, Constanza\\nAU  - Jacques-AviÃ±Ã³ C\\nAD  - AgÃ¨ncia de Salut PÃºblica de Barcelona (ASPB), Spain.\\nFAU - SaladiÃ©-MartÃ\\xad, MarÃ\\xada Pilar\\nAU  - SaladiÃ©-MartÃ\\xad MP\\nAD  - STI Unit, Special Programme Infectious Diseases Vall d\\'Hebron-Drassanes University  Hospital Vall d\\'HebrÃ³n, Barcelona, Spain.\\nFAU - Gosch-Elcoso, MercÃ¨\\nAU  - Gosch-Elcoso M\\nAD  - STI Unit, Special Programme Infectious Diseases Vall d\\'Hebron-Drassanes University  Hospital Vall d\\'HebrÃ³n, Barcelona, Spain.\\nFAU - Arellano MuÃ±oz, Encarna\\nAU  - Arellano MuÃ±oz E\\nAD  - STI Unit, Special Programme Infectious Diseases Vall d\\'Hebron-Drassanes University  Hospital Vall d\\'HebrÃ³n, Barcelona, Spain.\\nFAU - Casabona, Jordi\\nAU  - Casabona J\\nAD  - Centre of Epidemiological Studies of HIV/AIDS and STI of Catalonia (CEEISCAT)  Catalan Institut of Oncology (ICO) -Public Health Agency of Catalonia (ASPCAT),  Spain; Department of Paediatrics, Obstetrics and Gynaecology of the Autonomous  University of Barcelona (UAB), Bellaterra, Spain; CIBER, Epidemiology and Public  Health (CIBERESP), Spain.\\nLA  - eng\\nPT  - Journal Article\\nPT  - Research Support, Non-U.S. Gov\\'t\\nDEP - 20150221\\nPL  - Spain\\nTA  - Gac Sanit\\nJT  - Gaceta sanitaria\\nJID - 8901623\\nSB  - IM\\nMH  - Adolescent\\nMH  - Adult\\nMH  - Aged\\nMH  - Community Health Centers\\nMH  - Contact Tracing/*methods\\nMH  - Cross-Sectional Studies\\nMH  - Emotions\\nMH  - Humans\\nMH  - *Internet\\nMH  - Male\\nMH  - Middle Aged\\nMH  - Sexual Behavior\\nMH  - *Sexual Partners\\nMH  - Sexually Transmitted Diseases/epidemiology/*prevention &  control/psychology/transmission\\nMH  - Social Media\\nMH  - Social Stigma\\nMH  - Socioeconomic Factors\\nMH  - Spain/epidemiology\\nMH  - Telephone\\nMH  - Urban Population\\nMH  - Young Adult\\nOTO - NOTNLM\\nOT  - Communication networks\\nOT  - InfecciÃ³n de transmisiÃ³n sexual/VIH\\nOT  - Internet\\nOT  - NotificaciÃ³n a las parejas sexuales\\nOT  - Partner notification\\nOT  - Redes de comunicaciÃ³n\\nOT  - Sexually Transmitted Infection/HIV\\nEDAT- 2015/02/25 06:00\\nMHDA- 2017/02/14 06:00\\nCRDT- 2015/02/25 06:00\\nPHST- 2014/10/14 00:00 [received]\\nPHST- 2015/01/14 00:00 [revised]\\nPHST- 2015/01/14 00:00 [accepted]\\nPHST- 2015/02/25 06:00 [entrez]\\nPHST- 2015/02/25 06:00 [pubmed]\\nPHST- 2017/02/14 06:00 [medline]\\nAID - S0213-9111(15)00006-0 [pii]\\nAID - 10.1016/j.gaceta.2015.01.003 [doi]\\nPST - ppublish\\nSO  - Gac Sanit. 2015 May-Jun;29(3):190-7. doi: 10.1016/j.gaceta.2015.01.003. Epub 2015  Feb 21.\\n\\nPMID- 26765073\\nOWN - NLM\\nSTAT- MEDLINE\\nDCOM- 20161010\\nLR  - 20181202\\nIS  - 1521-0391 (Electronic)\\nIS  - 1055-0496 (Print)\\nIS  - 1055-0496 (Linking)\\nVI  - 25\\nIP  - 2\\nDP  - 2016 Mar\\nTI  - Predictors of needle exchange program utilization during its implementation and  expansion in Tijuana, Mexico.\\nPG  - 118-24\\nLID - 10.1111/ajad.12326 [doi]\\nAB  - OBJECTIVE: Until the early 2000s, there was only one needle exchange program (NEP)  offered in Mexico. In 2004, the second Mexican NEP opened in Tijuana, but its  utilization has not been studied. We studied predictors of initiating NEP during its  early expansion in Tijuana, Mexico. METHODS: From April 2006 to April 2007, people  who inject drugs (PWID) residing in Tijuana who had injected within the last month  were recruited using respondent-driven sampling. Weighted Poisson regression  incorporating generalized estimating equations was used to identify predictors of  initiating NEP, while accounting for correlation between recruiter and recruits.  RESULTS: NEP uptake increased from 20% at baseline to 59% after 6 months. Among a  subsample of PWID not accessing NEP at baseline (nâ€‰=â€‰480), 83% were male and median  age was 37 years (Interquartile Range: 32-43). At baseline, 4.4% were HIV-infected  and 5.9% had syphilis titers >1:8. In multivariate models, factors associated with  NEP initiation (pâ€‰<â€‰.05) were attending shooting galleries (Adjusted Relative Risk  [ARR]: 1.54); arrest for track-marks (ARR: 1.38); having a family member that ever  used drugs (ARR: 1.37); and having a larger PWID network (ARR: 1.01 per 10 persons).  NEP initiation was inversely associated with obtaining syringes at pharmacies (ARR:  .56); earning >2500 pesos/month (ARR: .66); and reporting needle sharing (ARR: .71).  CONCLUSIONS: Uptake of NEP expansion in Tijuana was vigorous among PWID. We  identified a range of factors that influenced the likelihood of NEP initiation,  including police interaction. These findings have important implications for the  scale-up of NEP in Mexico.\\nCI  - Â© American Academy of Addiction Psychiatry.\\nFAU - Smith, Danielle M\\nAU  - Smith DM\\nAD  - Division of Global Public Health, Department of Medicine, University of California,  San Diego.\\nAD  - Faculty of Health Sciences, Simon Fraser University, Burnaby, British Columbia,  Canada.\\nFAU - Werb, Dan\\nAU  - Werb D\\nAD  - Division of Global Public Health, Department of Medicine, University of California,  San Diego.\\nFAU - Abramovitz, Daniela\\nAU  - Abramovitz D\\nAD  - Division of Global Public Health, Department of Medicine, University of California,  San Diego.\\nFAU - Magis-Rodriguez, Carlos\\nAU  - Magis-Rodriguez C\\nAD  - Centro Nacional parala Prevencion y Control del VIH/SIDA e ITS (CENSIDA), Mexico  City, Mexico.\\nFAU - Vera, Alicia\\nAU  - Vera A\\nAD  - Division of Global Public Health, Department of Medicine, University of California,  San Diego.\\nFAU - Patterson, Thomas L\\nAU  - Patterson TL\\nAD  - Division of Global Public Health, Department of Medicine, University of California,  San Diego.\\nFAU - Strathdee, Steffanie A\\nAU  - Strathdee SA\\nAD  - Division of Global Public Health, Department of Medicine, University of California,  San Diego.\\nCN  - for Proyecto El Cuete\\nLA  - eng\\nGR  - DP2 DA040256-01/DA/NIDA NIH HHS/United States\\nGR  - R01 DA039073/DA/NIDA NIH HHS/United States\\nGR  - DP2 DA040256/DA/NIDA NIH HHS/United States\\nGR  - R01 DA019829/DA/NIDA NIH HHS/United States\\nGR  - R37 DA019829/DA/NIDA NIH HHS/United States\\nGR  - MOP-79297/Canadian Institutes of Health Research/Canada\\nPT  - Journal Article\\nPT  - Research Support, N.I.H., Extramural\\nPT  - Research Support, Non-U.S. Gov\\'t\\nDEP - 20160114\\nTA  - Am J Addict\\nJT  - The American journal on addictions\\nJID - 9208821\\nSB  - IM\\nMH  - Adult\\nMH  - Female\\nMH  - Humans\\nMH  - Male\\nMH  - Mexico\\nMH  - Middle Aged\\nMH  - Needle-Exchange Programs/*statistics & numerical data\\nMH  - Patient Acceptance of Health Care/*statistics & numerical data\\nMH  - Police/statistics & numerical data\\nMH  - Substance Abuse, Intravenous/*prevention & control\\nPMC - PMC5470727\\nMID - NIHMS863804\\nCOIS- Declaration of Interest The authors report no conflicts of interest. The authors  alone are responsible for the content and writing of this paper\\nEDAT- 2016/01/15 06:00\\nMHDA- 2016/10/11 06:00\\nCRDT- 2016/01/15 06:00\\nPHST- 2015/08/24 00:00 [received]\\nPHST- 2015/11/18 00:00 [revised]\\nPHST- 2015/12/10 00:00 [accepted]\\nPHST- 2016/01/15 06:00 [entrez]\\nPHST- 2016/01/15 06:00 [pubmed]\\nPHST- 2016/10/11 06:00 [medline]\\nAID - 10.1111/ajad.12326 [doi]\\nPST - ppublish\\nSO  - Am J Addict. 2016 Mar;25(2):118-24. doi: 10.1111/ajad.12326. Epub 2016 Jan 14.\\n\\nPMID- 30377979\\nOWN - NLM\\nSTAT- MEDLINE\\nDCOM- 20190711\\nLR  - 20200225\\nIS  - 1573-3254 (Electronic)\\nIS  - 1090-7165 (Print)\\nIS  - 1090-7165 (Linking)\\nVI  - 23\\nIP  - 4\\nDP  - 2019 Apr\\nTI  - Making the Link: A Pilot Health Navigation Intervention to Improve Timely Linkage to  Care for Men Who have Sex with Men and Transgender Women Recently Diagnosed with HIV  in Guatemala City.\\nPG  - 900-907\\nLID - 10.1007/s10461-018-2328-6 [doi]\\nAB  - We piloted a health navigation strategy to promote timely linkage to care among men  who have sex with men (MSM) and transgender women (TW) recently diagnosed with HIV  in Guatemala City. We used a mixed-methods approach, integrating quantitative data  collected during clinic visits and qualitative data from in-depth interviews, to  characterize acceptability of navigation and time to linkage, defined as having the  first clinical care visit. Out of 54 participants who enrolled in the pilot (nâ€‰=â€‰52  MSM; nâ€‰=â€‰2 TW), 50 (92.6%) accepted navigation and all were linked to care. Median  time to linkage was 3Â\\xa0days (Interquartile Range 2-5Â\\xa0days). In qualitative  interviews, participants expressed feeling scared and alone following their  diagnosis and appreciated the support of a navigator, especially when they did not  feel they could access their existing support networks. Future research and  evaluation should continue to assess how to best use health navigation to support  key populations recently diagnosed with HIV.\\nFAU - Loya-Montiel, M Itzel\\nAU  - Loya-Montiel MI\\nAD  - HIV Central America Regional Program, Center for Health Studies, Universidad del  Valle de Guatemala, Guatemala City, Guatemala.\\nFAU - Davis, Dirk A\\nAU  - Davis DA\\nAD  - Department of Health Behavior, Gillings School of Global Public Health, University  of North Carolina, Chapel Hill, NC, USA.\\nFAU - Aguilar-MartÃ\\xadnez, Jose Manuel\\nAU  - Aguilar-MartÃ\\xadnez JM\\nAD  - HIV Central America Regional Program, Center for Health Studies, Universidad del  Valle de Guatemala, Guatemala City, Guatemala.\\nFAU - Paz Bailey, Olga Alicia\\nAU  - Paz Bailey OA\\nAD  - Center for Conflict, Power and Violence Studies - CENDES, Guatemala City, Guatemala.\\nFAU - Morales-Miranda, Sonia\\nAU  - Morales-Miranda S\\nAD  - Consorcio de InvestigaciÃ³n sobre VIH, SIDA y TB (CISIDAT), Cuernavaca, Mexico.\\nFAU - Alvis-Estrada, Juan Pablo\\nAU  - Alvis-Estrada JP\\nAD  - HIV Central America Regional Program, Center for Health Studies, Universidad del  Valle de Guatemala, Guatemala City, Guatemala.\\nFAU - Northbrook, Sanny\\nAU  - Northbrook S\\nAD  - U.S. Centers for Disease Control and Prevention (CDC) Central America Region,  Guatemala City, Guatemala.\\nFAU - Barrington, Clare\\nAU  - Barrington C\\nAD  - Department of Health Behavior, Gillings School of Global Public Health, University  of North Carolina, Chapel Hill, NC, USA. cbarring@email.unc.edu.\\nLA  - eng\\nGR  - CC999999/Intramural CDC HHS/United States\\nGR  - GH0000575/U.S. President\\'s Emergency Plan for AIDS Relief/\\nPT  - Journal Article\\nTA  - AIDS Behav\\nJT  - AIDS and behavior\\nJID - 9712133\\nSB  - IM\\nMH  - Adult\\nMH  - *Continuity of Patient Care\\nMH  - Female\\nMH  - Guatemala/epidemiology\\nMH  - HIV Infections/diagnosis/*drug therapy/epidemiology\\nMH  - *Health Services Accessibility/statistics & numerical data\\nMH  - Homosexuality, Male/*psychology\\nMH  - Humans\\nMH  - Interviews as Topic\\nMH  - Male\\nMH  - *Patient Navigation\\nMH  - Pilot Projects\\nMH  - Qualitative Research\\nMH  - Sexual and Gender Minorities\\nMH  - Transgender Persons/psychology\\nMH  - Transsexualism/*psychology\\nPMC - PMC6691504\\nMID - NIHMS1045779\\nOTO - NOTNLM\\nOT  - Guatemala\\nOT  - HIV\\nOT  - Health navigation\\nOT  - Linkage to care\\nOT  - MSM\\nCOIS- Disclosure Statement: No potential conflict of interest was reported by the authors.\\nEDAT- 2018/11/01 06:00\\nMHDA- 2019/07/12 06:00\\nCRDT- 2018/11/01 06:00\\nPHST- 2018/11/01 06:00 [pubmed]\\nPHST- 2019/07/12 06:00 [medline]\\nPHST- 2018/11/01 06:00 [entrez]\\nAID - 10.1007/s10461-018-2328-6 [pii]\\nAID - 10.1007/s10461-018-2328-6 [doi]\\nPST - ppublish\\nSO  - AIDS Behav. 2019 Apr;23(4):900-907. doi: 10.1007/s10461-018-2328-6.\\n\\nPMID- 26482266\\nOWN - NLM\\nSTAT- MEDLINE\\nDCOM- 20161031\\nLR  - 20170916\\nIS  - 1469-0691 (Electronic)\\nIS  - 1198-743X (Linking)\\nVI  - 22\\nIP  - 2\\nDP  - 2016 Feb\\nTI  - Contribution of APOBEC3G/F activity to the development of low-abundance  drug-resistant human immunodeficiency virus type 1 variants.\\nPG  - 191-200\\nLID - S1198-743X(15)00903-9 [pii]\\nLID - 10.1016/j.cmi.2015.10.004 [doi]\\nAB  - Plasma drug-resistant minority human immunodeficiency virus type 1 variants (DRMVs)  increase the risk of virological failure to first-line non-nucleoside reverse  transcriptase inhibitor antiretroviral therapy (ART). The origin of DRMVs in  ART-naive patients, however, remains unclear. In a large pan-European case-control  study investigating the clinical relevance of pre-existing DRMVs using 454  pyrosequencing, the six most prevalent plasma DRMVs detected corresponded to G-to-A  nucleotide mutations (V90I, V106I, V108I, E138K, M184I and M230I). Here, we  evaluated if such DRMVs could have emerged from apolipoprotein B mRNA editing  enzyme, catalytic polypeptide 3G/F (APOBEC3G/F) activity. Out of 236 ART-naive  subjects evaluated, APOBEC3G/F hypermutation signatures were detected in plasma  viruses of 14 (5.9%) individuals. Samples with minority E138K, M184I, and M230I  mutations, but not those with V90I, V106I or V108I, were significantly associated  with APOBEC3G/F activity (Fisher\\'s P < 0.005), defined as the presence of > 0.5% of  sample sequences with an APOBEC3G/F signature. Mutations E138K, M184I and M230I  co-occurred in the same sequence as APOBEC3G/F signatures in 3/9 (33%), 5/11 (45%)  and 4/8 (50%) of samples, respectively; such linkage was not found for V90I, V106I  or V108I. In-frame STOP codons were observed in 1.5% of all clonal sequences; 14.8%  of them co-occurred with APOBEC3G/F signatures. APOBEC3G/F-associated E138K, M184I  and M230I appeared within clonal sequences containing in-frame STOP codons in 2/3  (66%), 5/5 (100%) and 4/4 (100%) of the samples. In a re-analysis of the parent case  control study, the presence of APOBEC3G/F signatures was not associated with  virological failure. In conclusion, the contribution of APOBEC3G/F editing to the  development of DRMVs is very limited and does not affect the efficacy of  non-nucleoside reverse transcriptase inhibitor ART.\\nCI  - Copyright Â© 2015 European Society of Clinical Microbiology and Infectious Diseases.  Published by Elsevier Ltd. All rights reserved.\\nFAU - Noguera-Julian, M\\nAU  - Noguera-Julian M\\nAD  - Institut de Recerca de la SIDA IrsiCaixa i Unitat VIH, Universitat AutÃ²noma de  Barcelona, Universitat de Vic, Catalonia, Spain. Electronic address:  mnoguera@irsicaixa.es.\\nFAU - Cozzi-Lepri, A\\nAU  - Cozzi-Lepri A\\nAD  - University College London, London, UK.\\nFAU - Di Giallonardo, F\\nAU  - Di Giallonardo F\\nAD  - Division of Infectious Diseases and Hospital Epidemiology, University Hospital  Zurich, University of Zurich, Zurich, Switzerland.\\nFAU - Schuurman, R\\nAU  - Schuurman R\\nAD  - Department of Virology, University Medical Centre, Utrecht, The Netherlands.\\nFAU - DÃ¤umer, M\\nAU  - DÃ¤umer M\\nAD  - Institut fÃ¼r Immunologie und Genetik, Kaiserslautern, Germany.\\nFAU - Aitken, S\\nAU  - Aitken S\\nAD  - Department of Virology, University Medical Centre, Utrecht, The Netherlands.\\nFAU - Ceccherini-Silberstein, F\\nAU  - Ceccherini-Silberstein F\\nAD  - Department of Experimental Medicine and Surgery, University of Rome Tor Vergata,  Rome, Italy.\\nFAU - D\\'Arminio Monforte, A\\nAU  - D\\'Arminio Monforte A\\nAD  - Department of Health Sciences, Clinic of Infectious Diseases, \\'San Paolo\\' Hospital,  University of Milan, Milan, Italy.\\nFAU - Geretti, A M\\nAU  - Geretti AM\\nAD  - Institute of Infection & Global Health, University of Liverpool, Liverpool, UK.\\nFAU - Booth, C L\\nAU  - Booth CL\\nAD  - Department of Virology, Royal Free London NHS Foundation Trust, London, UK.\\nFAU - Kaiser, R\\nAU  - Kaiser R\\nAD  - Institute of Virology, University of Cologne, Cologne, Germany.\\nFAU - Michalik, C\\nAU  - Michalik C\\nAD  - Competence Network for HIV/AIDS, Bochum, Germany; Clinic for Dermatology,  Venereology and Allergology of the Ruhr-UniversitÃ¤t, Bochum, Germany; Clinical Trial  Centre (ZKS), University Cologne, Germany.\\nFAU - Jansen, K\\nAU  - Jansen K\\nAD  - Competence Network for HIV/AIDS, Bochum, Germany; Clinic for Dermatology,  Venereology and Allergology of the Ruhr-UniversitÃ¤t, Bochum, Germany.\\nFAU - Masquelier, B\\nAU  - Masquelier B\\nAD  - Laboratoire de Virologie, CHU de Bordeaux and MFP-UMR5234, Universite Bordeaux 2,  Bordeaux, France.\\nFAU - Bellecave, P\\nAU  - Bellecave P\\nAD  - Laboratoire de Virologie, CHU de Bordeaux and MFP-UMR5234, Universite Bordeaux 2,  Bordeaux, France.\\nFAU - Kouyos, R D\\nAU  - Kouyos RD\\nAD  - Division of Infectious Diseases and Hospital Epidemiology, University Hospital  Zurich, University of Zurich, Zurich, Switzerland.\\nFAU - Castro, E\\nAU  - Castro E\\nAD  - Addiction Medicine, Service of Community Psychiatry, Centre Hospitalier  Universitaire Vaudois, Lausanne, Switzerland.\\nFAU - Furrer, H\\nAU  - Furrer H\\nAD  - Department of Infectious Diseases, Bern University Hospital and University of Bern,  Bern, Switzerland.\\nFAU - Schultze, A\\nAU  - Schultze A\\nAD  - University College London, London, UK.\\nFAU - GÃ¼nthard, H F\\nAU  - GÃ¼nthard HF\\nAD  - Division of Infectious Diseases and Hospital Epidemiology, University Hospital  Zurich, University of Zurich, Zurich, Switzerland; Institute of Medical Virology,  University of Zurich, Zurich, Switzerland.\\nFAU - Brun-Vezinet, F\\nAU  - Brun-Vezinet F\\nAD  - Department of Virology, Bichat University Hospital, Paris7, France.\\nFAU - Metzner, K J\\nAU  - Metzner KJ\\nAD  - Division of Infectious Diseases and Hospital Epidemiology, University Hospital  Zurich, University of Zurich, Zurich, Switzerland; Institute of Medical Virology,  University of Zurich, Zurich, Switzerland.\\nFAU - Paredes, R\\nAU  - Paredes R\\nAD  - Institut de Recerca de la SIDA IrsiCaixa i Unitat VIH, Universitat AutÃ²noma de  Barcelona, Universitat de Vic, Catalonia, Spain.\\nCN  - CHAIN Minority HIV-1 Variants Working group\\nLA  - eng\\nPT  - Journal Article\\nPT  - Research Support, Non-U.S. Gov\\'t\\nDEP - 20151023\\nPL  - England\\nTA  - Clin Microbiol Infect\\nJT  - Clinical microbiology and infection : the official publication of the European  Society of Clinical Microbiology and Infectious Diseases\\nJID - 9516420\\nRN  - 0 (RNA, Viral)\\nRN  - 0 (Reverse Transcriptase Inhibitors)\\nRN  - EC 3.5.4.1 (APOBEC3F protein, human)\\nRN  - EC 3.5.4.1 (Cytosine Deaminase)\\nRN  - EC 3.5.4.5 (APOBEC-3G Deaminase)\\nRN  - EC 3.5.4.5 (APOBEC3G protein, human)\\nRN  - EC 3.5.4.5 (Cytidine Deaminase)\\nSB  - IM\\nMH  - APOBEC-3G Deaminase\\nMH  - Antiretroviral Therapy, Highly Active\\nMH  - Case-Control Studies\\nMH  - Cytidine Deaminase/*genetics\\nMH  - Cytosine Deaminase/*genetics\\nMH  - *Drug Resistance, Viral\\nMH  - Female\\nMH  - HIV Infections/drug therapy/metabolism/*virology\\nMH  - HIV-1/*genetics\\nMH  - Humans\\nMH  - Male\\nMH  - *Mutation\\nMH  - RNA Editing\\nMH  - RNA, Viral/genetics/metabolism\\nMH  - Reverse Transcriptase Inhibitors/therapeutic use\\nOTO - NOTNLM\\nOT  - APOBEC3\\nOT  - NNRTI resistance\\nOT  - human immunodeficiency virus type 1\\nOT  - minority variants\\nOT  - resistance\\nFIR - Paredes, Roger\\nIR  - Paredes R\\nFIR - Metzner, Karin J\\nIR  - Metzner KJ\\nFIR - Cozzi-Lepri, Alessandro\\nIR  - Cozzi-Lepri A\\nFIR - Schuurman, Rob\\nIR  - Schuurman R\\nFIR - Brun-Vezinet, Francoise\\nIR  - Brun-Vezinet F\\nFIR - GÃ¼nthard, Huldrych\\nIR  - GÃ¼nthard H\\nFIR - Ceccherini-Silberstein, Francesca\\nIR  - Ceccherini-Silberstein F\\nFIR - Kaiser, Rolf\\nIR  - Kaiser R\\nFIR - Geretti, Anna Maria\\nIR  - Geretti AM\\nFIR - Brockmeyer, Norbert\\nIR  - Brockmeyer N\\nFIR - Masquelier, Bernard\\nIR  - Masquelier B\\nEDAT- 2015/10/21 06:00\\nMHDA- 2016/11/01 06:00\\nCRDT- 2015/10/21 06:00\\nPHST- 2015/05/13 00:00 [received]\\nPHST- 2015/09/07 00:00 [revised]\\nPHST- 2015/10/03 00:00 [accepted]\\nPHST- 2015/10/21 06:00 [entrez]\\nPHST- 2015/10/21 06:00 [pubmed]\\nPHST- 2016/11/01 06:00 [medline]\\nAID - S1198-743X(15)00903-9 [pii]\\nAID - 10.1016/j.cmi.2015.10.004 [doi]\\nPST - ppublish\\nSO  - Clin Microbiol Infect. 2016 Feb;22(2):191-200. doi: 10.1016/j.cmi.2015.10.004. Epub  2015 Oct 23.\\n\\nPMID- 30722780\\nOWN - NLM\\nSTAT- MEDLINE\\nDCOM- 20200220\\nLR  - 20200309\\nIS  - 1471-2431 (Electronic)\\nIS  - 1471-2431 (Linking)\\nVI  - 19\\nIP  - 1\\nDP  - 2019 Feb 5\\nTI  - High level of treatment failure and drug resistance to first-line antiretroviral  therapies among HIV-infected children receiving decentralized care in Senegal.\\nPG  - 47\\nLID - 10.1186/s12887-019-1420-z [doi]\\nLID - 47\\nAB  - BACKGROUND: In Senegal in 2015, an estimated 4800 children were living with HIV,  with 1200 receiving ARV treatment, of whom half had follow-up care in decentralized  sites outside Dakar. However, until now no studies have determined the efficacy of  pediatric treatment in decentralized settings, even though the emergence of viral  resistance, particularly among children in Africa, is a well-known phenomenon. This  study aimed to assess the virological status of HIV-infected children in all  decentralized facilities to help improve access to quality care. METHODS: A  cross-sectional epidemiological and virological study was conducted in all of  Senegal\\'s regions, except Dakar, between March and June 2015 and sought to include  all HIV-infected children and adolescents (0-19â€‰years), treated or not with ARVs.  Socio-demographic and clinical data and a blood sample on blotting paper were  collected for children from treatment sites. Samples were routed on public  transportation, assisted by a network of community health workers. A viral load (VL)  assay was performed for each child, followed by genotyping when it exceeded 1000  copies/mL (3 log(10)). RESULTS: Of the 851 identified children, 666 (78%) were  enrolled in the study. Half of the children were girls, and the average age was  8â€‰years (6â€‰months-19â€‰years). Most of the children (96.7%) were infected with HIV-1,  and 90% were treated with ART, primarily with AZTâ€‰+â€‰3TCâ€‰+â€‰NVP/EFV therapeutic  regimen. The median duration of time on ART was 21â€‰months (1-129). VL was measured  for 2% of children before this study. Almost two-thirds (64%) of the children are  experiencing virological failure. Among them, there was resistance to at least one  drug for 86.5% of cases. Also, 25% children presented resistance to one drug and 40%  to two out of three. For nearly one-third of the children presenting resistance,  none of the three drugs of the treatment was active. Factors associated with  virological failure were male sex, follow-up by a generalist rather than a  specialist, and treatment interruptions. CONCLUSIONS: We observed a high level of  virological failure and a high percentage of viral resistance among children  receiving health care in decentralized facilities in Senegal.\\nFAU - CissÃ©, Abdoul-Magib\\nAU  - CissÃ© AM\\nAD  - Service de pÃ©diatrie Ã‰tablissement Public de SantÃ© (EPS) de Mbour, UFR Sciences de  la SantÃ©, ThiÃ¨s University, ThiÃ¨s, Senegal.\\nFAU - Laborde-Balen, GabriÃ¨le\\nAU  - Laborde-Balen G\\nAD  - Expertise France, Paris, France.\\nAD  - ANRS-Senegal site, Dakar, Senegal.\\nAD  - Centre rÃ©gional de recherche et de formation Ã\\xa0 la prise en charge clinique de Fann  (CRCF), Dakar, Senegal.\\nFAU - KÃ©bÃ©-Fall, Khady\\nAU  - KÃ©bÃ©-Fall K\\nAD  - Bacteriology-Virology Laboratory, A. Le Dantec CHU, Cheikh Anta Diop University,  Dakar, Senegal.\\nFAU - DramÃ©, Aboubacry\\nAU  - DramÃ© A\\nAD  - Bacteriology-Virology Laboratory, A. Le Dantec CHU, Cheikh Anta Diop University,  Dakar, Senegal.\\nFAU - Diop, Halimatou\\nAU  - Diop H\\nAD  - Bacteriology-Virology Laboratory, A. Le Dantec CHU, Cheikh Anta Diop University,  Dakar, Senegal.\\nFAU - Diop, Karim\\nAU  - Diop K\\nAD  - Expertise France, Paris, France.\\nAD  - Centre rÃ©gional de recherche et de formation Ã\\xa0 la prise en charge clinique de Fann  (CRCF), Dakar, Senegal.\\nAD  - Division de lutte contre le sidxa et les IST (DLSI), Ministry of Health and Social  Action (MSAS), Dakar, Senegal.\\nFAU - FatouNiasse-TraorÃ©\\nAU  - FatouNiasse-TraorÃ©\\nAD  - Conseil national de lutte contre le sida (CNLS), Dakar, Senegal.\\nFAU - Coulibaly, Mohamed\\nAU  - Coulibaly M\\nAD  - Division de lutte contre le sidxa et les IST (DLSI), Ministry of Health and Social  Action (MSAS), Dakar, Senegal.\\nFAU - Have, Ndeye-Ngone\\nAU  - Have NN\\nAD  - RÃ©seau national des associations de personnes vivant avec le VIH au (RNP+), Dakar,  Senegal.\\nFAU - Vidal, Nicole\\nAU  - Vidal N\\nAD  - Institut de Recherche pour le DÃ©veloppement (IRD), Montpellier, France.\\nFAU - Thiam, Safiatou\\nAU  - Thiam S\\nAD  - Conseil national de lutte contre le sida (CNLS), Dakar, Senegal.\\nFAU - Wade, Abdoulaye S\\nAU  - Wade AS\\nAD  - Division de lutte contre le sidxa et les IST (DLSI), Ministry of Health and Social  Action (MSAS), Dakar, Senegal.\\nFAU - Peeters, Martine\\nAU  - Peeters M\\nAD  - Institut de Recherche pour le DÃ©veloppement (IRD), Montpellier, France.\\nFAU - Taverne, Bernard\\nAU  - Taverne B\\nAD  - Centre rÃ©gional de recherche et de formation Ã\\xa0 la prise en charge clinique de Fann  (CRCF), Dakar, Senegal.\\nAD  - Institut de Recherche pour le DÃ©veloppement (IRD), Montpellier, France.\\nFAU - Msellati, Philippe\\nAU  - Msellati P\\nAUID- ORCID: 0000-0003-2568-1626\\nAD  - Institut de Recherche pour le DÃ©veloppement (IRD), Montpellier, France.  philippe.msellati@ird.fr.\\nAD  - TransVIHMI, IRD, PACCI, 18 BP 1954, Abidjan 18, Abidjan, CÃ´te d\\'Ivoire.  philippe.msellati@ird.fr.\\nFAU - TourÃ©-Kane, Coumba\\nAU  - TourÃ©-Kane C\\nAD  - Bacteriology-Virology Laboratory, A. Le Dantec CHU, Cheikh Anta Diop University,  Dakar, Senegal.\\nLA  - eng\\nPT  - Journal Article\\nPT  - Research Support, Non-U.S. Gov\\'t\\nDEP - 20190205\\nTA  - BMC Pediatr\\nJT  - BMC pediatrics\\nJID - 100967804\\nRN  - 0 (Anti-Retroviral Agents)\\nSB  - IM\\nMH  - Adolescent\\nMH  - Anti-Retroviral Agents/*therapeutic use\\nMH  - Child\\nMH  - Child, Preschool\\nMH  - Cross-Sectional Studies\\nMH  - Delivery of Health Care/organization & administration\\nMH  - *Drug Resistance, Viral\\nMH  - Female\\nMH  - HIV Infections/*drug therapy/epidemiology\\nMH  - Humans\\nMH  - Infant\\nMH  - Male\\nMH  - Senegal/epidemiology\\nMH  - *Treatment Failure\\nMH  - Young Adult\\nPMC - PMC6362577\\nOTO - NOTNLM\\nOT  - *Antiretroviral\\nOT  - *Decentralization\\nOT  - *Pediatric HIV\\nOT  - *Senegal\\nOT  - *Viral resistance\\nCOIS- ETHICS APPROVAL AND CONSENT TO PARTICIPATE: The protocol was approved by the  National Ethics Committee for Research in Health in Senegal on 16 December 2014  under no. 377/MSAS/DPRS/CNERS. All parents or guardians provided written informed  consent. CONSENT FOR PUBLICATION: â€œNot applicableâ€. COMPETING INTERESTS: The authors  declare that they have no competing interests. PUBLISHERâ€™S NOTE: Springer Nature  remains neutral with regard to jurisdictional claims in published maps and  institutional affiliations.\\nEDAT- 2019/02/07 06:00\\nMHDA- 2020/02/23 06:00\\nCRDT- 2019/02/07 06:00\\nPHST- 2018/10/12 00:00 [received]\\nPHST- 2019/01/29 00:00 [accepted]\\nPHST- 2019/02/07 06:00 [entrez]\\nPHST- 2019/02/07 06:00 [pubmed]\\nPHST- 2020/02/23 06:00 [medline]\\nAID - 10.1186/s12887-019-1420-z [pii]\\nAID - 1420 [pii]\\nAID - 10.1186/s12887-019-1420-z [doi]\\nPST - epublish\\nSO  - BMC Pediatr. 2019 Feb 5;19(1):47. doi: 10.1186/s12887-019-1420-z.\\n\\nPMID- 25336166\\nOWN - NLM\\nSTAT- MEDLINE\\nDCOM- 20151016\\nLR  - 20211021\\nIS  - 1460-2091 (Electronic)\\nIS  - 0305-7453 (Print)\\nIS  - 0305-7453 (Linking)\\nVI  - 70\\nIP  - 3\\nDP  - 2015 Mar\\nTI  - Low-frequency drug-resistant HIV-1 and risk of virological failure to first-line  NNRTI-based ART: a multicohort European case-control study using centralized  ultrasensitive 454 pyrosequencing.\\nPG  - 930-40\\nLID - 10.1093/jac/dku426 [doi]\\nAB  - OBJECTIVES: It is still debated if pre-existing minority drug-resistant HIV-1  variants (MVs) affect the virological outcomes of first-line NNRTI-containing ART.  METHODS: This Europe-wide case-control study included ART-naive subjects infected  with drug-susceptible HIV-1 as revealed by population sequencing, who achieved  virological suppression on first-line ART including one NNRTI. Cases experienced  virological failure and controls were subjects from the same cohort whose viraemia  remained suppressed at a matched time since initiation of ART. Blinded, centralized  454 pyrosequencing with parallel bioinformatic analysis in two laboratories was used  to identify MVs in the 1%-25% frequency range. ORs of virological failure according  to MV detection were estimated by logistic regression. RESULTS: Two hundred and  sixty samples (76 cases and 184 controls), mostly subtype B (73.5%), were used for  the analysis. Identical MVs were detected in the two laboratories. 31.6% of cases  and 16.8% of controls harboured pre-existing MVs. Detection of at least one MV  versus no MVs was associated with an increased risk of virological failure  (ORâ€Š=â€Š2.75, 95% CIâ€Š=â€Š1.35-5.60, Pâ€Š=â€Š0.005); similar associations were observed for  at least one MV versus no NRTI MVs (ORâ€Š=â€Š2.27, 95% CIâ€Š=â€Š0.76-6.77, Pâ€Š=â€Š0.140) and at  least one MV versus no NNRTI MVs (ORâ€Š=â€Š2.41, 95% CIâ€Š=â€Š1.12-5.18, Pâ€Š=â€Š0.024). A  dose-effect relationship between virological failure and mutational load was found.  CONCLUSIONS: Pre-existing MVs more than double the risk of virological failure to  first-line NNRTI-based ART.\\nCI  - Â© The Author 2014. Published by Oxford University Press on behalf of the British  Society for Antimicrobial Chemotherapy.\\nFAU - Cozzi-Lepri, Alessandro\\nAU  - Cozzi-Lepri A\\nAD  - University College London, London, UK.\\nFAU - Noguera-Julian, Marc\\nAU  - Noguera-Julian M\\nAD  - Institut de Recerca de la SIDA IrsiCaixa i Unitat VIH, Universitat AutÃ²noma de  Barcelona, Universitat de Vic, Catalonia, Spain.\\nFAU - Di Giallonardo, Francesca\\nAU  - Di Giallonardo F\\nAD  - Division of Infectious Diseases and Hospital Epidemiology, University Hospital  Zurich, University of Zurich, Zurich, Switzerland.\\nFAU - Schuurman, Rob\\nAU  - Schuurman R\\nAD  - Department of Virology, University Medical Centre, Utrecht, The Netherlands.\\nFAU - DÃ¤umer, Martin\\nAU  - DÃ¤umer M\\nAD  - Institut fÃ¼r Immunologie und Genetik, Kaiserslautern, Germany.\\nFAU - Aitken, Sue\\nAU  - Aitken S\\nAD  - Department of Virology, University Medical Centre, Utrecht, The Netherlands.\\nFAU - Ceccherini-Silberstein, Francesca\\nAU  - Ceccherini-Silberstein F\\nAD  - Department of Experimental Medicine and Surgery, University of Rome Tor Vergata,  Rome, Italy.\\nFAU - D\\'Arminio Monforte, Antonella\\nAU  - D\\'Arminio Monforte A\\nAD  - Department of Health Sciences, Clinic of Infectious Diseases, \\'San Paolo\\' Hospital,  University of Milan, Milan, Italy.\\nFAU - Geretti, Anna Maria\\nAU  - Geretti AM\\nAD  - Institute of Infection & Global Health, University of Liverpool, Liverpool, UK.\\nFAU - Booth, Clare L\\nAU  - Booth CL\\nAD  - Department of Virology, Royal Free London NHS Foundation Trust, London, UK.\\nFAU - Kaiser, Rolf\\nAU  - Kaiser R\\nAD  - Institute of Virology, University of Cologne, Cologne, Germany.\\nFAU - Michalik, Claudia\\nAU  - Michalik C\\nAD  - Competence Network for HIV/AIDS, Bochum, Germany and Clinic for Dermatology,  Venerology and Allergology of the Ruhr-UniversitÃ¤t, Bochum, Germany Clinical Trial  Centre (ZKS), University of Cologne, Cologne, Germany.\\nFAU - Jansen, Klaus\\nAU  - Jansen K\\nAD  - Competence Network for HIV/AIDS, Bochum, Germany and Clinic for Dermatology,  Venerology and Allergology of the Ruhr-UniversitÃ¤t, Bochum, Germany.\\nFAU - Masquelier, Bernard\\nAU  - Masquelier B\\nAD  - Laboratoire de Virologie, CHU de Bordeaux and MFP-UMR5234, UniversitÃ© Bordeaux 2,  Bordeaux, France.\\nFAU - Bellecave, Pantxika\\nAU  - Bellecave P\\nAD  - Laboratoire de Virologie, CHU de Bordeaux and MFP-UMR5234, UniversitÃ© Bordeaux 2,  Bordeaux, France.\\nFAU - Kouyos, Roger D\\nAU  - Kouyos RD\\nAD  - Division of Infectious Diseases and Hospital Epidemiology, University Hospital  Zurich, University of Zurich, Zurich, Switzerland.\\nFAU - Castro, Erika\\nAU  - Castro E\\nAD  - Addiction Medicine, Service of Community Psychiatry, Centre Hospitalier  Universitaire Vaudois, Lausanne, Switzerland.\\nFAU - Furrer, Hansjakob\\nAU  - Furrer H\\nAD  - Department of Infectious Diseases, Bern University Hospital and University of Bern,  Bern, Switzerland.\\nFAU - Schultze, Anna\\nAU  - Schultze A\\nAD  - University College London, London, UK.\\nFAU - GÃ¼nthard, Huldrych F\\nAU  - GÃ¼nthard HF\\nAD  - Division of Infectious Diseases and Hospital Epidemiology, University Hospital  Zurich, University of Zurich, Zurich, Switzerland.\\nFAU - Brun-Vezinet, Francoise\\nAU  - Brun-Vezinet F\\nAD  - Department of Virology, Bichat University Hospital, Paris, France.\\nFAU - Paredes, Roger\\nAU  - Paredes R\\nAD  - Institut de Recerca de la SIDA IrsiCaixa i Unitat VIH, Universitat AutÃ²noma de  Barcelona, Universitat de Vic, Catalonia, Spain.\\nFAU - Metzner, Karin J\\nAU  - Metzner KJ\\nAD  - Division of Infectious Diseases and Hospital Epidemiology, University Hospital  Zurich, University of Zurich, Zurich, Switzerland karin.metzner@usz.ch.\\nCN  - CHAIN Minority HIV-1 Variants Working Group\\nLA  - eng\\nPT  - Journal Article\\nDEP - 20141021\\nTA  - J Antimicrob Chemother\\nJT  - The Journal of antimicrobial chemotherapy\\nJID - 7513617\\nRN  - 0 (Reverse Transcriptase Inhibitors)\\nSB  - IM\\nMH  - Adult\\nMH  - Antiretroviral Therapy, Highly Active/*methods\\nMH  - Case-Control Studies\\nMH  - Cohort Studies\\nMH  - Computational Biology\\nMH  - *Drug Resistance, Viral\\nMH  - Europe\\nMH  - Female\\nMH  - Genotype\\nMH  - HIV Infections/*drug therapy/*virology\\nMH  - HIV-1/*drug effects/genetics/isolation & purification\\nMH  - High-Throughput Nucleotide Sequencing\\nMH  - Humans\\nMH  - Male\\nMH  - Reverse Transcriptase Inhibitors/*therapeutic use\\nMH  - Risk Assessment\\nMH  - Sequence Analysis, DNA\\nMH  - Treatment Failure\\nMH  - Young Adult\\nPMC - PMC4319483\\nOTO - NOTNLM\\nOT  - CHAIN\\nOT  - European multicentre study\\nOT  - antiretroviral therapy\\nOT  - minority drug-resistant HIV-1 variants\\nFIR - Paredes, Roger\\nIR  - Paredes R\\nFIR - Metzner, Karin J\\nIR  - Metzner KJ\\nFIR - Cozzi-Lepri, Alessandro\\nIR  - Cozzi-Lepri A\\nFIR - Schuurman, Rob\\nIR  - Schuurman R\\nFIR - Brun-Vezinet, Francoise\\nIR  - Brun-Vezinet F\\nFIR - GÃ¼nthard, Huldrych\\nIR  - GÃ¼nthard H\\nFIR - Ceccherini-Silberstein, Francesca\\nIR  - Ceccherini-Silberstein F\\nFIR - Kaiser, Rolf\\nIR  - Kaiser R\\nFIR - Geretti, Anna Maria\\nIR  - Geretti AM\\nFIR - Brockmeyer, Norbert\\nIR  - Brockmeyer N\\nFIR - Masquelier, Bernard\\nIR  - Masquelier B\\nEDAT- 2014/10/23 06:00\\nMHDA- 2015/10/17 06:00\\nCRDT- 2014/10/23 06:00\\nPHST- 2014/10/23 06:00 [entrez]\\nPHST- 2014/10/23 06:00 [pubmed]\\nPHST- 2015/10/17 06:00 [medline]\\nAID - dku426 [pii]\\nAID - 10.1093/jac/dku426 [doi]\\nPST - ppublish\\nSO  - J Antimicrob Chemother. 2015 Mar;70(3):930-40. doi: 10.1093/jac/dku426. Epub 2014  Oct 21.\\n']\n"
     ]
    }
   ],
   "source": [
    "print(x)"
   ]
  },
  {
   "cell_type": "code",
   "execution_count": 104,
   "id": "d4efd9b3-7326-492a-a1c0-bbfaf5ec182e",
   "metadata": {},
   "outputs": [],
   "source": [
    "country = re.findall(r'[,]+[\\s]+[\\w]+[.=$]|[,]+[\\s]+[\\w]+[\\s]+[\\w]+[.=$]', my_text)"
   ]
  },
  {
   "cell_type": "code",
   "execution_count": 105,
   "id": "8d73656d-99ae-4b8d-a0ae-416a1f5d2880",
   "metadata": {},
   "outputs": [
    {
     "data": {
      "text/plain": [
       "134"
      ]
     },
     "execution_count": 105,
     "metadata": {},
     "output_type": "execute_result"
    }
   ],
   "source": [
    "len(country)"
   ]
  },
  {
   "cell_type": "code",
   "execution_count": 106,
   "id": "2ab11794",
   "metadata": {},
   "outputs": [
    {
     "data": {
      "text/plain": [
       "[', Brazil.',\n",
       " ', Brasil.',\n",
       " ', Brasil.',\n",
       " ', Brazil.',\n",
       " ', Brazil.',\n",
       " ', Brazil.',\n",
       " ',  Brazil.',\n",
       " ',  Brazil.',\n",
       " ', Brazil.',\n",
       " ',  Brasil.']"
      ]
     },
     "execution_count": 106,
     "metadata": {},
     "output_type": "execute_result"
    }
   ],
   "source": [
    "country[:10]"
   ]
  },
  {
   "cell_type": "code",
   "execution_count": 107,
   "id": "61eba6e7",
   "metadata": {},
   "outputs": [],
   "source": [
    "unique_country = list(set(country))"
   ]
  },
  {
   "cell_type": "code",
   "execution_count": 108,
   "id": "d06bd8a0",
   "metadata": {},
   "outputs": [
    {
     "data": {
      "text/plain": [
       "28"
      ]
     },
     "execution_count": 108,
     "metadata": {},
     "output_type": "execute_result"
    }
   ],
   "source": [
    "len(unique_country)"
   ]
  },
  {
   "cell_type": "code",
   "execution_count": 109,
   "id": "4b9ce894",
   "metadata": {},
   "outputs": [
    {
     "data": {
      "text/plain": [
       "[', N.',\n",
       " ',  Canada.',\n",
       " ', UK.',\n",
       " ', Switzerland.',\n",
       " ', France.',\n",
       " ',  Brasil.',\n",
       " ', Switzerland karin.',\n",
       " ', Burundi.',\n",
       " ', remains unclear.',\n",
       " ', Italy.',\n",
       " ',  Senegal.',\n",
       " ',  San Diego.',\n",
       " ', Cameroon.',\n",
       " ', Spain.',\n",
       " ', Guatemala.',\n",
       " ', USA.',\n",
       " ', Germany.',\n",
       " ', Brazil.',\n",
       " ', Brasil.',\n",
       " ', A.',\n",
       " ', Chile.',\n",
       " ', Rwanda.',\n",
       " ', 4.',\n",
       " ', The Netherlands.',\n",
       " ',  Brazil.',\n",
       " ', Mexico.',\n",
       " ', Senegal.',\n",
       " ', South Africa.']"
      ]
     },
     "execution_count": 109,
     "metadata": {},
     "output_type": "execute_result"
    }
   ],
   "source": [
    "unique_country"
   ]
  },
  {
   "cell_type": "code",
   "execution_count": 110,
   "id": "690e7a04-1785-4a3f-ba55-86e89bc65bb2",
   "metadata": {},
   "outputs": [
    {
     "name": "stdout",
     "output_type": "stream",
     "text": [
      ", N.,  Canada., UK., Switzerland., France.,  Brasil., Switzerland karin., Burundi., remains unclear., Italy.,  Senegal.,  San Diego., Cameroon., Spain., Guatemala., USA., Germany., Brazil., Brasil., A., Chile., Rwanda., 4., The Netherlands.,  Brazil., Mexico., Senegal., South Africa.\n"
     ]
    }
   ],
   "source": [
    "characters = \",.\\s\"\n",
    "\n",
    "string = ''.join( x for x in unique_country if x not in characters)\n",
    "print(string)"
   ]
  },
  {
   "cell_type": "code",
   "execution_count": 111,
   "id": "5de2b978-473f-4bb7-9836-713e71d7ae45",
   "metadata": {},
   "outputs": [
    {
     "data": {
      "text/plain": [
       "', N.'"
      ]
     },
     "execution_count": 111,
     "metadata": {},
     "output_type": "execute_result"
    }
   ],
   "source": [
    "unique_country.pop(0)"
   ]
  },
  {
   "cell_type": "code",
   "execution_count": 112,
   "id": "9e230084-4a4b-442c-917a-61a2940d26f6",
   "metadata": {},
   "outputs": [
    {
     "data": {
      "text/plain": [
       "', UK.'"
      ]
     },
     "execution_count": 112,
     "metadata": {},
     "output_type": "execute_result"
    }
   ],
   "source": [
    "unique_country.pop(1)"
   ]
  },
  {
   "cell_type": "code",
   "execution_count": 113,
   "id": "50214e57-2b07-4a5e-9df4-44e8db742164",
   "metadata": {},
   "outputs": [
    {
     "data": {
      "text/plain": [
       "', Burundi.'"
      ]
     },
     "execution_count": 113,
     "metadata": {},
     "output_type": "execute_result"
    }
   ],
   "source": [
    "unique_country.pop(5)"
   ]
  },
  {
   "cell_type": "code",
   "execution_count": 114,
   "id": "9dafac6a-bfae-454c-8613-dd0ac7c38c0b",
   "metadata": {},
   "outputs": [
    {
     "data": {
      "text/plain": [
       "', Spain.'"
      ]
     },
     "execution_count": 114,
     "metadata": {},
     "output_type": "execute_result"
    }
   ],
   "source": [
    "unique_country.pop(10)"
   ]
  },
  {
   "cell_type": "code",
   "execution_count": 115,
   "id": "e5ae2c83-b0de-4b4d-a9ef-d07edb0f038a",
   "metadata": {},
   "outputs": [
    {
     "data": {
      "text/plain": [
       "', USA.'"
      ]
     },
     "execution_count": 115,
     "metadata": {},
     "output_type": "execute_result"
    }
   ],
   "source": [
    "unique_country.pop(11)"
   ]
  },
  {
   "cell_type": "code",
   "execution_count": 116,
   "id": "b0264959-e8f1-4655-8c52-7d6d354a66a3",
   "metadata": {},
   "outputs": [
    {
     "data": {
      "text/plain": [
       "', Chile.'"
      ]
     },
     "execution_count": 116,
     "metadata": {},
     "output_type": "execute_result"
    }
   ],
   "source": [
    "unique_country.pop(15)"
   ]
  },
  {
   "cell_type": "code",
   "execution_count": 117,
   "id": "51bb6f5b-4d6f-4291-aafb-8528bb42beda",
   "metadata": {},
   "outputs": [
    {
     "data": {
      "text/plain": [
       "', Brazil.'"
      ]
     },
     "execution_count": 117,
     "metadata": {},
     "output_type": "execute_result"
    }
   ],
   "source": [
    "unique_country.pop(12)"
   ]
  },
  {
   "cell_type": "code",
   "execution_count": 118,
   "id": "bf47723c-591e-4766-ad79-235202c45f2e",
   "metadata": {},
   "outputs": [
    {
     "data": {
      "text/plain": [
       "',  Senegal.'"
      ]
     },
     "execution_count": 118,
     "metadata": {},
     "output_type": "execute_result"
    }
   ],
   "source": [
    "unique_country.pop(7)"
   ]
  },
  {
   "cell_type": "code",
   "execution_count": 93,
   "id": "6c11eb33",
   "metadata": {},
   "outputs": [
    {
     "data": {
      "text/plain": [
       "',  with 13.'"
      ]
     },
     "execution_count": 93,
     "metadata": {},
     "output_type": "execute_result"
    }
   ],
   "source": [
    "unique_country.pop(17)"
   ]
  },
  {
   "cell_type": "code",
   "execution_count": 94,
   "id": "2ce93f4e",
   "metadata": {},
   "outputs": [
    {
     "data": {
      "text/plain": [
       "',  France.'"
      ]
     },
     "execution_count": 94,
     "metadata": {},
     "output_type": "execute_result"
    }
   ],
   "source": [
    "unique_country.pop(3)"
   ]
  },
  {
   "cell_type": "code",
   "execution_count": 95,
   "id": "9c16e726",
   "metadata": {},
   "outputs": [
    {
     "data": {
      "text/plain": [
       "', Ltd.'"
      ]
     },
     "execution_count": 95,
     "metadata": {},
     "output_type": "execute_result"
    }
   ],
   "source": [
    "unique_country.pop(4)"
   ]
  },
  {
   "cell_type": "code",
   "execution_count": 96,
   "id": "128caa84",
   "metadata": {},
   "outputs": [
    {
     "data": {
      "text/plain": [
       "', United States.'"
      ]
     },
     "execution_count": 96,
     "metadata": {},
     "output_type": "execute_result"
    }
   ],
   "source": [
    "unique_country.pop(2)"
   ]
  },
  {
   "cell_type": "code",
   "execution_count": null,
   "id": "3e6eb642",
   "metadata": {},
   "outputs": [],
   "source": []
  },
  {
   "cell_type": "code",
   "execution_count": null,
   "id": "53339022",
   "metadata": {},
   "outputs": [],
   "source": []
  },
  {
   "cell_type": "code",
   "execution_count": null,
   "id": "14444246",
   "metadata": {},
   "outputs": [],
   "source": []
  }
 ],
 "metadata": {
  "kernelspec": {
   "display_name": "Python 3 (ipykernel)",
   "language": "python",
   "name": "python3"
  },
  "language_info": {
   "codemirror_mode": {
    "name": "ipython",
    "version": 3
   },
   "file_extension": ".py",
   "mimetype": "text/x-python",
   "name": "python",
   "nbconvert_exporter": "python",
   "pygments_lexer": "ipython3",
   "version": "3.9.7"
  }
 },
 "nbformat": 4,
 "nbformat_minor": 5
}
