{
 "cells": [
  {
   "cell_type": "code",
   "execution_count": 2,
   "id": "3f3cc364-d2e9-4709-a3f7-7b5e5370e492",
   "metadata": {},
   "outputs": [],
   "source": [
    "import re\n",
    "import csv"
   ]
  },
  {
   "cell_type": "code",
   "execution_count": 3,
   "id": "7aee7c60-33f3-476d-a84a-cd41de92f033",
   "metadata": {},
   "outputs": [],
   "source": [
    "with open('../Tarea-2/pubmed-dengue-set.nbib') as f:\n",
    "    my_text = f.read()"
   ]
  },
  {
   "cell_type": "code",
   "execution_count": 4,
   "id": "bb546d8c-6dd6-4e24-85b7-09585bf7be76",
   "metadata": {},
   "outputs": [
    {
     "data": {
      "text/plain": [
       "526538"
      ]
     },
     "execution_count": 4,
     "metadata": {},
     "output_type": "execute_result"
    }
   ],
   "source": [
    "len(my_text)"
   ]
  },
  {
   "cell_type": "code",
   "execution_count": 5,
   "id": "06013610-a0a3-4f55-a047-69b7100de33d",
   "metadata": {},
   "outputs": [],
   "source": [
    "my_text = re.sub(r'\\n\\s{6}', ' ', my_text)"
   ]
  },
  {
   "cell_type": "code",
   "execution_count": 6,
   "id": "d4efd9b3-7326-492a-a1c0-bbfaf5ec182e",
   "metadata": {},
   "outputs": [],
   "source": [
    "country = re.findall(r'[,]+[\\s]+[\\w]+[.=$]|[,]+[\\s]+[\\w]+[\\s]+[\\w]+[.=$]', my_text)"
   ]
  },
  {
   "cell_type": "code",
   "execution_count": 7,
   "id": "8d73656d-99ae-4b8d-a0ae-416a1f5d2880",
   "metadata": {},
   "outputs": [
    {
     "data": {
      "text/plain": [
       "592"
      ]
     },
     "execution_count": 7,
     "metadata": {},
     "output_type": "execute_result"
    }
   ],
   "source": [
    "len(country)"
   ]
  },
  {
   "cell_type": "code",
   "execution_count": 8,
   "id": "2ab11794",
   "metadata": {},
   "outputs": [
    {
     "data": {
      "text/plain": [
       "[', Cuba.',\n",
       " ', USA.',\n",
       " ', India.',\n",
       " ', India.',\n",
       " ', and control.',\n",
       " ', USA.',\n",
       " ', The Netherlands.',\n",
       " ', The Netherlands.',\n",
       " ', Viet Nam.',\n",
       " ', USA.']"
      ]
     },
     "execution_count": 8,
     "metadata": {},
     "output_type": "execute_result"
    }
   ],
   "source": [
    "country[:10]"
   ]
  },
  {
   "cell_type": "code",
   "execution_count": 9,
   "id": "61eba6e7",
   "metadata": {},
   "outputs": [],
   "source": [
    "unique_country = list(set(country))"
   ]
  },
  {
   "cell_type": "code",
   "execution_count": 10,
   "id": "d06bd8a0",
   "metadata": {},
   "outputs": [
    {
     "data": {
      "text/plain": [
       "154"
      ]
     },
     "execution_count": 10,
     "metadata": {},
     "output_type": "execute_result"
    }
   ],
   "source": [
    "len(unique_country)"
   ]
  },
  {
   "cell_type": "code",
   "execution_count": 11,
   "id": "4b9ce894",
   "metadata": {},
   "outputs": [
    {
     "data": {
      "text/plain": [
       "[', Peru.',\n",
       " ', 94.',\n",
       " ', Switzerland.',\n",
       " ', Pakistan.',\n",
       " ', Turkey.',\n",
       " ', Rotherham.',\n",
       " ', France.',\n",
       " ', respectively.',\n",
       " ', Sri Lanka.',\n",
       " ', NY 10036.',\n",
       " ', Australia.',\n",
       " ', Philippines.',\n",
       " ', Chile.',\n",
       " ', Singapore 308433.',\n",
       " ', Viet Nam.',\n",
       " ', Bhutan.',\n",
       " ', CP.',\n",
       " ', British Columbia.',\n",
       " ',  aggressive syndrome.',\n",
       " ', United  Kingdom.',\n",
       " ', Israel.',\n",
       " ', San Juan.',\n",
       " ', Vietnam.',\n",
       " ', Mexico.',\n",
       " ',  Thailand.',\n",
       " ', Canada.',\n",
       " ', Inc.',\n",
       " ', ROC.',\n",
       " ', USA.',\n",
       " ', Colombia.',\n",
       " ',  Italy.',\n",
       " ', P.',\n",
       " ', Singapore 308442.',\n",
       " ',  Brazil.',\n",
       " ', United States.',\n",
       " ', The Netherlands.',\n",
       " ', etc.',\n",
       " ', and prevention.',\n",
       " ',  Switzerland.',\n",
       " ', Singapore 117549.',\n",
       " ', St.',\n",
       " ', and control.',\n",
       " ', 85.',\n",
       " ', and leukopenia.',\n",
       " ', were uncommon.',\n",
       " ', D.',\n",
       " ', Thailand.',\n",
       " ', Dr.',\n",
       " ', SLACK Incorporated.',\n",
       " ',  Colombia.',\n",
       " ', Singapore 138675.',\n",
       " ', N.',\n",
       " ',  Viet Nam.',\n",
       " ', without mortality.',\n",
       " ', Senegal.',\n",
       " ', Bethesda.',\n",
       " ', 55.',\n",
       " ', 2015.',\n",
       " ',  USA.',\n",
       " ', and hyponatremia.',\n",
       " ', were included.',\n",
       " ',  France.',\n",
       " ', Netherlands.',\n",
       " ', simultaneously.',\n",
       " ',  ROC.',\n",
       " ', Qatar.',\n",
       " ', Maryland.',\n",
       " ', are  scarce.',\n",
       " ', PR.',\n",
       " ', Malaysia.',\n",
       " ',  Indonesia.',\n",
       " ', Belize.',\n",
       " ', Honduras.',\n",
       " ', Ave.',\n",
       " ', Nagasaki University.',\n",
       " ', Ludhiana.',\n",
       " ', Congo.',\n",
       " ', Bangladesh.',\n",
       " ', Nice.',\n",
       " ', southern Vietnam.',\n",
       " ', Kerala.',\n",
       " ', Aedes albopictus.',\n",
       " ', is terrifying.',\n",
       " ', Punjab.',\n",
       " ', Providence.',\n",
       " ', Singapore 636921.',\n",
       " ', Kottiyam.',\n",
       " ',  Maryland.',\n",
       " ', U.',\n",
       " ', Italy.',\n",
       " ', Treatment.',\n",
       " ',  Bangladesh.',\n",
       " ', Belgium.',\n",
       " ',  Sri Lanka.',\n",
       " ', were calculated.',\n",
       " ', PerÃº.',\n",
       " ', Brasil.',\n",
       " ', Palestine.',\n",
       " ', New Delhi.',\n",
       " ',  Brasil.',\n",
       " ',  The Netherlands.',\n",
       " ',  Pakistan.',\n",
       " ', and thrombocytopenia.',\n",
       " ', New Caledonia.',\n",
       " ', Sweden.',\n",
       " ', Nepal.',\n",
       " ', Japan.',\n",
       " ',  Massachusetts.',\n",
       " ',  Malaysia.',\n",
       " ',  with 13.',\n",
       " ', and 66.',\n",
       " ', Cuba.',\n",
       " ', Brazil.',\n",
       " ', Aedes spp.',\n",
       " ', India.',\n",
       " ', Panama.',\n",
       " ', UK  david.',\n",
       " ', Oslo.',\n",
       " ', Ltd.',\n",
       " ', Portugal.',\n",
       " ', US$',\n",
       " ', ix.',\n",
       " ',  etc.',\n",
       " ',  respectively.',\n",
       " ', A.',\n",
       " ', Indonesia.',\n",
       " ', and US$',\n",
       " ', Sri  Lanka.',\n",
       " ', California.',\n",
       " ', Nicaragua.',\n",
       " ', remains symptomatic.',\n",
       " ',  Australia.',\n",
       " ', including DENV.',\n",
       " ', Guadeloupe.',\n",
       " ',  Singapore.',\n",
       " ', Paris.',\n",
       " ', CO 80522.',\n",
       " ', 20.',\n",
       " ', and cough.',\n",
       " ', Viet  Nam.',\n",
       " ',  Singapore 117597.',\n",
       " ', UK.',\n",
       " ', Venezuela.',\n",
       " ',  Georgia.',\n",
       " ', Germany.',\n",
       " ', Singapore.',\n",
       " ', prevention.',\n",
       " ', United Kingdom.',\n",
       " ', 15.',\n",
       " ', with 2.',\n",
       " ', S.',\n",
       " ', genus Flavivirus.',\n",
       " ', Chennai.',\n",
       " ', Costa  Rica.']"
      ]
     },
     "execution_count": 11,
     "metadata": {},
     "output_type": "execute_result"
    }
   ],
   "source": [
    "unique_country"
   ]
  },
  {
   "cell_type": "code",
   "execution_count": 12,
   "id": "690e7a04-1785-4a3f-ba55-86e89bc65bb2",
   "metadata": {},
   "outputs": [
    {
     "name": "stdout",
     "output_type": "stream",
     "text": [
      ", Peru., 94., Switzerland., Pakistan., Turkey., Rotherham., France., respectively., Sri Lanka., NY 10036., Australia., Philippines., Chile., Singapore 308433., Viet Nam., Bhutan., CP., British Columbia.,  aggressive syndrome., United  Kingdom., Israel., San Juan., Vietnam., Mexico.,  Thailand., Canada., Inc., ROC., USA., Colombia.,  Italy., P., Singapore 308442.,  Brazil., United States., The Netherlands., etc., and prevention.,  Switzerland., Singapore 117549., St., and control., 85., and leukopenia., were uncommon., D., Thailand., Dr., SLACK Incorporated.,  Colombia., Singapore 138675., N.,  Viet Nam., without mortality., Senegal., Bethesda., 55., 2015.,  USA., and hyponatremia., were included.,  France., Netherlands., simultaneously.,  ROC., Qatar., Maryland., are  scarce., PR., Malaysia.,  Indonesia., Belize., Honduras., Ave., Nagasaki University., Ludhiana., Congo., Bangladesh., Nice., southern Vietnam., Kerala., Aedes albopictus., is terrifying., Punjab., Providence., Singapore 636921., Kottiyam.,  Maryland., U., Italy., Treatment.,  Bangladesh., Belgium.,  Sri Lanka., were calculated., PerÃº., Brasil., Palestine., New Delhi.,  Brasil.,  The Netherlands.,  Pakistan., and thrombocytopenia., New Caledonia., Sweden., Nepal., Japan.,  Massachusetts.,  Malaysia.,  with 13., and 66., Cuba., Brazil., Aedes spp., India., Panama., UK  david., Oslo., Ltd., Portugal., US$, ix.,  etc.,  respectively., A., Indonesia., and US$, Sri  Lanka., California., Nicaragua., remains symptomatic.,  Australia., including DENV., Guadeloupe.,  Singapore., Paris., CO 80522., 20., and cough., Viet  Nam.,  Singapore 117597., UK., Venezuela.,  Georgia., Germany., Singapore., prevention., United Kingdom., 15., with 2., S., genus Flavivirus., Chennai., Costa  Rica.\n"
     ]
    }
   ],
   "source": [
    "characters = \",.\\s\"\n",
    "\n",
    "string = ''.join( x for x in unique_country if x not in characters)\n",
    "print(string)"
   ]
  },
  {
   "cell_type": "code",
   "execution_count": null,
   "id": "5de2b978-473f-4bb7-9836-713e71d7ae45",
   "metadata": {},
   "outputs": [],
   "source": []
  },
  {
   "cell_type": "code",
   "execution_count": null,
   "id": "9e230084-4a4b-442c-917a-61a2940d26f6",
   "metadata": {},
   "outputs": [],
   "source": []
  },
  {
   "cell_type": "code",
   "execution_count": null,
   "id": "50214e57-2b07-4a5e-9df4-44e8db742164",
   "metadata": {},
   "outputs": [],
   "source": [
    "\n"
   ]
  },
  {
   "cell_type": "code",
   "execution_count": null,
   "id": "9dafac6a-bfae-454c-8613-dd0ac7c38c0b",
   "metadata": {},
   "outputs": [],
   "source": []
  },
  {
   "cell_type": "code",
   "execution_count": null,
   "id": "e5ae2c83-b0de-4b4d-a9ef-d07edb0f038a",
   "metadata": {},
   "outputs": [],
   "source": [
    "\n"
   ]
  },
  {
   "cell_type": "code",
   "execution_count": null,
   "id": "b0264959-e8f1-4655-8c52-7d6d354a66a3",
   "metadata": {},
   "outputs": [],
   "source": []
  },
  {
   "cell_type": "code",
   "execution_count": null,
   "id": "51bb6f5b-4d6f-4291-aafb-8528bb42beda",
   "metadata": {},
   "outputs": [],
   "source": []
  },
  {
   "cell_type": "code",
   "execution_count": null,
   "id": "bf47723c-591e-4766-ad79-235202c45f2e",
   "metadata": {},
   "outputs": [],
   "source": []
  }
 ],
 "metadata": {
  "kernelspec": {
   "display_name": "Python 3 (ipykernel)",
   "language": "python",
   "name": "python3"
  },
  "language_info": {
   "codemirror_mode": {
    "name": "ipython",
    "version": 3
   },
   "file_extension": ".py",
   "mimetype": "text/x-python",
   "name": "python",
   "nbconvert_exporter": "python",
   "pygments_lexer": "ipython3",
   "version": "3.9.7"
  }
 },
 "nbformat": 4,
 "nbformat_minor": 5
}
